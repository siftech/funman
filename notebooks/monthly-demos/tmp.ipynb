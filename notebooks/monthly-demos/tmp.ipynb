{
 "cells": [
  {
   "cell_type": "code",
   "execution_count": 2,
   "metadata": {},
   "outputs": [],
   "source": [
    "import xarray as xr"
   ]
  },
  {
   "cell_type": "code",
   "execution_count": 86,
   "metadata": {},
   "outputs": [],
   "source": [
    "N=10\n",
    "M=1\n",
    "SIB= [\"S\", \"I\", \"B\"]\n",
    "S_prime = xr.DataArray(data=[\n",
    "                    [\n",
    "                        [\n",
    "                            S-(S*I*((B+1)*0.0001))\n",
    "                            for B in range(M, N)\n",
    "                        ]\n",
    "                        for I in range(M, N)\n",
    "                    ]\n",
    "                    for S in range(M, N)\n",
    "                ], \n",
    "             coords={k:range(M, N) for k in SIB}, dims=SIB)\n",
    "SIBG = [\"S\", \"I\", \"B\", \"G\"]\n",
    "I_prime = xr.DataArray(data=[[\n",
    "                    [\n",
    "                        [\n",
    "                            I+(S*I*((B+1)*0.0001))- (((G+1)*0.01)*I)\n",
    "                            for G in range(M, N)\n",
    "                        ]\n",
    "                        for B in range(M, N)\n",
    "                        \n",
    "                    ]\n",
    "                    for I in range(M, N)\n",
    "                    \n",
    "                ]\n",
    "                     for S in range(M, N)        \n",
    "                             ], \n",
    "             coords={k:range(M, N) for k in SIBG}, dims=SIBG)\n",
    "RIG = [\"G\", \"I\", \"R\"]\n",
    "R_prime = xr.DataArray(data=[\n",
    "                    [\n",
    "                        [\n",
    "                            R+(I*((G+1)*0.01))\n",
    "                            for R in range(M, N)\n",
    "                        ]\n",
    "                        for I in range(M, N)\n",
    "                    ]\n",
    "                    for G in range(M, N)\n",
    "                ]\n",
    "                             , \n",
    "             coords={k:range(M, N) for k in RIG}, dims=RIG)"
   ]
  },
  {
   "cell_type": "code",
   "execution_count": 87,
   "metadata": {},
   "outputs": [
    {
     "data": {
      "text/plain": [
       "({'S': <xarray.DataArray ()>\n",
       "  array(0),\n",
       "  'I': <xarray.DataArray ()>\n",
       "  array(8),\n",
       "  'B': <xarray.DataArray ()>\n",
       "  array(8)},\n",
       " {'S': <xarray.DataArray ()>\n",
       "  array(8),\n",
       "  'I': <xarray.DataArray ()>\n",
       "  array(0),\n",
       "  'B': <xarray.DataArray ()>\n",
       "  array(0)})"
      ]
     },
     "execution_count": 87,
     "metadata": {},
     "output_type": "execute_result"
    }
   ],
   "source": [
    "# S_prime.plot()\n",
    "S_prime.argmin(dim=S_prime.dims), S_prime.argmax(dim=S_prime.dims)\n"
   ]
  },
  {
   "cell_type": "code",
   "execution_count": 88,
   "metadata": {},
   "outputs": [
    {
     "data": {
      "text/plain": [
       "({'S': <xarray.DataArray ()>\n",
       "  array(0),\n",
       "  'I': <xarray.DataArray ()>\n",
       "  array(0),\n",
       "  'B': <xarray.DataArray ()>\n",
       "  array(0),\n",
       "  'G': <xarray.DataArray ()>\n",
       "  array(8)},\n",
       " {'S': <xarray.DataArray ()>\n",
       "  array(8),\n",
       "  'I': <xarray.DataArray ()>\n",
       "  array(8),\n",
       "  'B': <xarray.DataArray ()>\n",
       "  array(8),\n",
       "  'G': <xarray.DataArray ()>\n",
       "  array(0)})"
      ]
     },
     "execution_count": 88,
     "metadata": {},
     "output_type": "execute_result"
    }
   ],
   "source": [
    "I_prime.argmin(dim=I_prime.dims), I_prime.argmax(dim=I_prime.dims)"
   ]
  },
  {
   "cell_type": "code",
   "execution_count": 89,
   "metadata": {},
   "outputs": [
    {
     "data": {
      "text/plain": [
       "({'G': <xarray.DataArray ()>\n",
       "  array(0),\n",
       "  'I': <xarray.DataArray ()>\n",
       "  array(0),\n",
       "  'R': <xarray.DataArray ()>\n",
       "  array(0)},\n",
       " {'G': <xarray.DataArray ()>\n",
       "  array(8),\n",
       "  'I': <xarray.DataArray ()>\n",
       "  array(8),\n",
       "  'R': <xarray.DataArray ()>\n",
       "  array(8)})"
      ]
     },
     "execution_count": 89,
     "metadata": {},
     "output_type": "execute_result"
    }
   ],
   "source": [
    "R_prime.argmin(dim=R_prime.dims), R_prime.argmax(dim=R_prime.dims)"
   ]
  }
 ],
 "metadata": {
  "kernelspec": {
   "display_name": "funman_venv",
   "language": "python",
   "name": "python3"
  },
  "language_info": {
   "codemirror_mode": {
    "name": "ipython",
    "version": 3
   },
   "file_extension": ".py",
   "mimetype": "text/x-python",
   "name": "python",
   "nbconvert_exporter": "python",
   "pygments_lexer": "ipython3",
   "version": "3.8.10"
  }
 },
 "nbformat": 4,
 "nbformat_minor": 2
}
