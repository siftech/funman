{
 "cells": [
  {
   "cell_type": "code",
   "execution_count": 5,
   "metadata": {},
   "outputs": [],
   "source": [
    "# This notebook illustrates improvements to scalability gained by point-based evaluation\n",
    "\n",
    "# Import funman related code\n",
    "import os\n",
    "from funman.api.run import Runner\n",
    "from funman_demo import summarize_results\n",
    "from funman import FunmanWorkRequest, EncodingSchedule \n",
    "import json\n",
    "from funman.representation.constraint import LinearConstraint, ParameterConstraint, StateVariableConstraint\n",
    "from funman.representation import Interval\n",
    "import pandas as pd\n",
    "\n",
    "RESOURCES = \"../resources\"\n",
    "SAVED_RESULTS_DIR = \"./out\"\n",
    "\n",
    "# EXAMPLE_DIR = os.path.join(RESOURCES, \"amr\", \"petrinet\",\"amr-examples\")\n",
    "EXAMPLE_DIR = os.path.join(RESOURCES, \"amr\", \"petrinet\",\"evaluation\")\n",
    "MODEL_PATH = os.path.join(\n",
    "    EXAMPLE_DIR, \"sir.json\"\n",
    ")\n",
    "# REQUEST_PATH = os.path.join(\n",
    "#     EXAMPLE_DIR, \"sir_request_param_synth.json\"\n",
    "# )\n",
    "REQUEST_PATH = os.path.join(\n",
    "    EXAMPLE_DIR, \"sir_request_consistency.json\"\n",
    ")\n",
    "\n",
    "\n",
    "request_params = {}\n",
    "\n",
    "# %load_ext autoreload\n",
    "# %autoreload 2"
   ]
  },
  {
   "cell_type": "code",
   "execution_count": 2,
   "metadata": {},
   "outputs": [],
   "source": [
    "# Helper functions to setup FUNMAN for different steps of the scenario\n",
    "\n",
    "def get_request():\n",
    "    with open(REQUEST_PATH, \"r\") as request:\n",
    "        funman_request = FunmanWorkRequest.model_validate(json.load(request))\n",
    "        return funman_request\n",
    "\n",
    "def set_timepoints(funman_request, num_steps, step_size):\n",
    "    funman_request.structure_parameters[0].interval.lb = num_steps\n",
    "    funman_request.structure_parameters[0].interval.ub = num_steps\n",
    "    funman_request.structure_parameters[1].interval.lb = step_size\n",
    "    funman_request.structure_parameters[1].interval.ub = step_size\n",
    "    \n",
    "    # funman_request.structure_parameters[0].schedules = [EncodingSchedule(timepoints=timepoints)]\n",
    "\n",
    "def unset_all_labels(funman_request):\n",
    "    for p in funman_request.parameters:\n",
    "        p.label = \"any\"\n",
    "    \n",
    "def set_all_labels(funman_request):\n",
    "    for p in funman_request.parameters:\n",
    "        p.label = \"all\"    \n",
    "    \n",
    "def set_config_options(funman_request, point_based=False, debug=False, dreal_precision=1, prioritize_box_entropy=False):\n",
    "    # Overrides for configuration\n",
    "    #\n",
    "    # funman_request.config.substitute_subformulas = True\n",
    "    # funman_request.config.use_transition_symbols = True\n",
    "    # funman_request.config.use_compartmental_constraints=False\n",
    "    if debug:\n",
    "        funman_request.config.save_smtlib=\"./out\"\n",
    "        funman_request.config.verbosity = 10\n",
    "    funman_request.config.tolerance = 0.1\n",
    "    funman_request.config.dreal_precision = dreal_precision\n",
    "    funman_request.config.point_based_evaluation=point_based\n",
    "    funman_request.config.normalize=False\n",
    "    funman_request.config.prioritize_box_entropy=prioritize_box_entropy\n",
    "    \n",
    "    # funman_request.config.dreal_log_level = \"debug\"\n",
    "    # funman_request.config.dreal_prefer_parameters = [\"beta\",\"NPI_mult\",\"r_Sv\",\"r_EI\",\"r_IH_u\",\"r_IH_v\",\"r_HR\",\"r_HD\",\"r_IR_u\",\"r_IR_v\"]\n",
    "\n",
    "def get_synthesized_vars(funman_request):\n",
    "    return [p.name for p in funman_request.parameters if p.label == \"all\"]\n",
    "\n",
    "def run(funman_request, plot=False):\n",
    "    to_synthesize = get_synthesized_vars(funman_request)\n",
    "    return Runner().run(\n",
    "        MODEL_PATH,\n",
    "        funman_request,\n",
    "        description=\"SIERHD Eval 12mo Scenario 1 q1\",\n",
    "        case_out_dir=SAVED_RESULTS_DIR,\n",
    "        dump_plot=plot,\n",
    "        print_last_time=True,\n",
    "        parameters_to_plot=to_synthesize\n",
    "    )\n",
    "\n",
    "def setup_common(funman_request, num_steps, step_size, point_based=False, synthesize=False, debug=False, dreal_precision=1e-1, prioritize_box_entropy=False):\n",
    "    set_timepoints(funman_request, num_steps, step_size)\n",
    "    if not synthesize:\n",
    "        unset_all_labels(funman_request)\n",
    "    else:\n",
    "        set_all_labels(funman_request)\n",
    "    set_config_options(funman_request, point_based=point_based, debug=debug, dreal_precision=dreal_precision, prioritize_box_entropy=prioritize_box_entropy)\n",
    "    \n",
    "\n",
    "def set_compartment_bounds(funman_request, upper_bound=9830000.0, error=0.01):\n",
    "    # Add bounds to compartments\n",
    "    for var in STATES:\n",
    "        funman_request.constraints.append(StateVariableConstraint(name=f\"{var}_bounds\", variable=var, interval=Interval(lb=0, ub=upper_bound, closed_upper_bound=True),soft=False))\n",
    "\n",
    "    # Add sum of compartments\n",
    "    funman_request.constraints.append(LinearConstraint(name=f\"compartment_bounds\", variables=STATES, additive_bounds=Interval(lb=upper_bound-error, ub=upper_bound+error, closed_upper_bound=False), soft=True))\n",
    "\n",
    "def relax_parameter_bounds(funman_request, factor = 0.1):\n",
    "    # Relax parameter bounds\n",
    "    parameters = funman_request.parameters\n",
    "    for p in parameters:\n",
    "        interval = p.interval\n",
    "        width = float(interval.width())\n",
    "        interval.lb = interval.lb - (factor/2 * width)\n",
    "        interval.ub = interval.ub + (factor/2 * width)\n",
    "\n",
    "def plot_last_point(results):\n",
    "    pts = results.parameter_space.points() \n",
    "    print(f\"{len(pts)} points\")\n",
    "\n",
    "    if len(pts) > 0:\n",
    "        # Get a plot for last point\n",
    "        df = results.dataframe(points=pts[-1:])\n",
    "        # pd.options.plotting.backend = \"plotly\"\n",
    "        ax = df[STATES].plot()\n",
    "        \n",
    "    \n",
    "        fig = plt.figure()\n",
    "        # fig.set_yscale(\"log\")\n",
    "        fig.savefig(\"save_file_name.pdf\")\n",
    "        plt.close()\n",
    "\n",
    "def get_last_point_parameters(results):\n",
    "    pts = results.parameter_space.points()\n",
    "    if len(pts) > 0:\n",
    "        pt = pts[-1]\n",
    "        parameters = results.model._parameter_names()\n",
    "        param_values = {k:v for k, v in pt.values.items() if k in parameters }\n",
    "        return param_values\n",
    "\n",
    "def pretty_print_request_params(params):\n",
    "    # print(json.dump(params, indent=4))\n",
    "    if len(params)>0:\n",
    "\n",
    "        df = pd.DataFrame(params)\n",
    "        print(df.T)\n",
    "\n",
    "\n",
    "def report(results, name):\n",
    "    # plot_last_point(results)\n",
    "    param_values = get_last_point_parameters(results)\n",
    "    param_values[\"runtime\"] = results.timing.total_time\n",
    "    # print(f\"Point parameters: {param_values}\")\n",
    "    if param_values is not None:\n",
    "        request_params[name] = param_values\n",
    "    pretty_print_request_params(request_params)\n",
    "\n",
    "def add_unit_test(funman_request):\n",
    "    pass\n",
    "    # funman_request.constraints.append(LinearConstraint(name=\"unit_test\", variables = [\n",
    "    #         \"Infected\",\n",
    "    #         \"Diagnosed\",\n",
    "    #         \"Ailing\",\n",
    "    #         \"Recognized\",\n",
    "    #         \"Threatened\"\n",
    "    #      ],\n",
    "    #      additive_bounds= {\n",
    "    #         \"lb\": 0.55,\n",
    "    #         \"ub\": 0.65\n",
    "    #      },\n",
    "    #      timepoints={\n",
    "    #         \"lb\": 45,\n",
    "    #         \"ub\": 55\n",
    "    #      }\n",
    "    #   ))\n"
   ]
  },
  {
   "cell_type": "code",
   "execution_count": 25,
   "metadata": {},
   "outputs": [],
   "source": [
    "# Constants for the scenario\n",
    "STATES = [\"S\", \"I\", \"R\"]\n",
    "\n",
    "MAX_TIME=250\n",
    "STEP_SIZE=1\n",
    "NUM_STEPS=MAX_TIME/STEP_SIZE\n",
    "timepoints = list(range(0, MAX_TIME+STEP_SIZE, STEP_SIZE))"
   ]
  },
  {
   "cell_type": "code",
   "execution_count": 26,
   "metadata": {},
   "outputs": [
    {
     "name": "stderr",
     "output_type": "stream",
     "text": [
      "[0.20154, 0.20154) has equal lower and upper bounds, so assuming the upper bound is closed.  (I.e., [lb, ub) is actually [lb, ub])\n",
      "[0.07109, 0.07109) has equal lower and upper bounds, so assuming the upper bound is closed.  (I.e., [lb, ub) is actually [lb, ub])\n",
      "[0.99000, 0.99000) has equal lower and upper bounds, so assuming the upper bound is closed.  (I.e., [lb, ub) is actually [lb, ub])\n",
      "[0.01000, 0.01000) has equal lower and upper bounds, so assuming the upper bound is closed.  (I.e., [lb, ub) is actually [lb, ub])\n",
      "[0.00000, 0.00000) has equal lower and upper bounds, so assuming the upper bound is closed.  (I.e., [lb, ub) is actually [lb, ub])\n",
      "[1.00000, 1.00000) has equal lower and upper bounds, so assuming the upper bound is closed.  (I.e., [lb, ub) is actually [lb, ub])\n",
      "[12.00000, 12.00000) has equal lower and upper bounds, so assuming the upper bound is closed.  (I.e., [lb, ub) is actually [lb, ub])\n",
      "[12.00000, 12.00000) has equal lower and upper bounds, so assuming the upper bound is closed.  (I.e., [lb, ub) is actually [lb, ub])\n",
      "[12.00000, 12.00000) has equal lower and upper bounds, so assuming the upper bound is closed.  (I.e., [lb, ub) is actually [lb, ub])\n",
      "[5.00000, 5.00000) has equal lower and upper bounds, so assuming the upper bound is closed.  (I.e., [lb, ub) is actually [lb, ub])\n",
      "[5.00000, 5.00000) has equal lower and upper bounds, so assuming the upper bound is closed.  (I.e., [lb, ub) is actually [lb, ub])\n",
      "[5.00000, 5.00000) has equal lower and upper bounds, so assuming the upper bound is closed.  (I.e., [lb, ub) is actually [lb, ub])\n",
      "2024-08-26 02:12:51,567 - funman.server.worker - INFO - FunmanWorker running...\n",
      "2024-08-26 02:12:51,569 - funman.server.worker - INFO - Starting work on: 1e441f8d-1937-461c-a18f-c86ee9aa6f1a\n",
      "2024-08-26 02:17:36,377 - funman.api.run - INFO - Dumping results to ./out/1e441f8d-1937-461c-a18f-c86ee9aa6f1a.json\n",
      "2024-08-26 02:17:36,479 - funman.scenario.consistency - INFO - 250{250}:\t[+]\n",
      "2024-08-26 02:17:39,233 - funman.scenario.scenario - INFO - simulation passed verification\n",
      "2024-08-26 02:17:39,318 - funman.server.worker - INFO - Completed work on: 1e441f8d-1937-461c-a18f-c86ee9aa6f1a\n"
     ]
    },
    {
     "name": "stdout",
     "output_type": "stream",
     "text": [
      "Simulation Time: 0:00:02.754625\n"
     ]
    },
    {
     "name": "stderr",
     "output_type": "stream",
     "text": [
      "2024-08-26 02:17:46,450 - funman.server.worker - INFO - Worker.stop() acquiring state lock ....\n",
      "2024-08-26 02:17:46,872 - funman.server.worker - INFO - FunmanWorker exiting...\n",
      "2024-08-26 02:17:46,876 - funman.server.worker - INFO - Worker.stop() completed.\n"
     ]
    },
    {
     "name": "stdout",
     "output_type": "stream",
     "text": [
      "Total # of ibex-fwdbwd Pruning                @ Pruning level        =          316260\n",
      "Total # of ibex-fwdbwd Pruning (zero-effect)  @ Pruning level        =          296057\n",
      "Total time spent in Pruning                   @ Pruning level        =        0.227849 sec\n",
      "Total time spent in making constraints        @ Pruning level        =        0.000000 sec\n",
      "Total # of Convert                            @ Ibex Converter       =            1255\n",
      "Total time spent in Converting                @ Ibex Converter       =        0.018036 sec\n",
      "                 beta     gamma    S0    I0   R0    N         runtime\n",
      "point-based  0.201544  0.071086  0.99  0.01  0.0  1.0  0:04:47.749004\n"
     ]
    }
   ],
   "source": [
    "# Solve using point-based method\n",
    "\n",
    "funman_request = get_request()\n",
    "setup_common(funman_request, NUM_STEPS, STEP_SIZE, debug=False, point_based=True, synthesize=True, prioritize_box_entropy=False)\n",
    "# add_unit_test(funman_request)\n",
    "results = run(funman_request)\n",
    "report(results, \"point-based\")"
   ]
  },
  {
   "cell_type": "code",
   "execution_count": 27,
   "metadata": {},
   "outputs": [
    {
     "name": "stdout",
     "output_type": "stream",
     "text": [
      "250\t0:00:02.754625\t0:04:44.994379\n"
     ]
    }
   ],
   "source": [
    "from datetime import timedelta, datetime\n",
    "\n",
    "total= \"0:04:47.749004\"\n",
    "sim = \"0:00:02.754625\"\n",
    "format = \"%H:%M:%S.%f\"\n",
    "\n",
    "nonsim = datetime.strptime(total, format) - datetime.strptime(sim, format)\n",
    "print(f\"{MAX_TIME}\\t{sim}\\t{nonsim}\")"
   ]
  },
  {
   "cell_type": "code",
   "execution_count": null,
   "metadata": {},
   "outputs": [
    {
     "name": "stderr",
     "output_type": "stream",
     "text": [
      "[1000.00000, 1000.00000) has equal lower and upper bounds, so assuming the upper bound is closed.  (I.e., [lb, ub) is actually [lb, ub])\n",
      "[1.00000, 1.00000) has equal lower and upper bounds, so assuming the upper bound is closed.  (I.e., [lb, ub) is actually [lb, ub])\n",
      "[0.00000, 0.00000) has equal lower and upper bounds, so assuming the upper bound is closed.  (I.e., [lb, ub) is actually [lb, ub])\n",
      "[1.00000, 1.00000) has equal lower and upper bounds, so assuming the upper bound is closed.  (I.e., [lb, ub) is actually [lb, ub])\n",
      "[1.00000, 1.00000) has equal lower and upper bounds, so assuming the upper bound is closed.  (I.e., [lb, ub) is actually [lb, ub])\n",
      "[1.00000, 1.00000) has equal lower and upper bounds, so assuming the upper bound is closed.  (I.e., [lb, ub) is actually [lb, ub])\n",
      "2024-08-23 15:08:26,279 - funman.server.worker - INFO - FunmanWorker running...\n",
      "2024-08-23 15:08:26,282 - funman.server.worker - INFO - Starting work on: 100f7f32-6527-426f-8d4e-62a447cad847\n",
      "2024-08-23 15:08:26,636 - funman.scenario.consistency - INFO - 20{100}:\t[+]\n",
      "2024-08-23 15:08:27,885 - funman.scenario.scenario - INFO - simulation passed verification\n",
      "2024-08-23 15:08:27,894 - funman.server.worker - INFO - Completed work on: 100f7f32-6527-426f-8d4e-62a447cad847\n",
      "2024-08-23 15:08:28,286 - funman.server.worker - INFO - Worker.stop() acquiring state lock ....\n",
      "2024-08-23 15:08:28,400 - funman.server.worker - INFO - FunmanWorker exiting...\n",
      "2024-08-23 15:08:28,403 - funman.server.worker - INFO - Worker.stop() completed.\n"
     ]
    },
    {
     "name": "stdout",
     "output_type": "stream",
     "text": [
      "               beta gamma      S0   I0   R0         runtime\n",
      "point-based     0.0  0.14  1000.0  1.0  0.0  0:00:01.710106\n",
      "interval-based  0.0  0.14  1000.0  1.0  0.0  0:00:01.612061\n"
     ]
    }
   ],
   "source": [
    "# Solve using interval-based method\n",
    "\n",
    "funman_request = get_request()\n",
    "setup_common(funman_request, NUM_STEPS, STEP_SIZE, point_based=False, synthesize=False)\n",
    "# add_unit_test(funman_request)\n",
    "results = run(funman_request)\n",
    "report(results, \"interval-based\")"
   ]
  },
  {
   "cell_type": "code",
   "execution_count": null,
   "metadata": {},
   "outputs": [
    {
     "data": {
      "text/plain": [
       "FunmanResultsTiming(start_time=datetime.datetime(2024, 8, 23, 15, 8, 26, 282907), end_time=datetime.datetime(2024, 8, 23, 15, 8, 27, 894968), total_time=datetime.timedelta(seconds=1, microseconds=612061), solver_time=None, encoding_time=None, progress_timeseries=[(datetime.datetime(2024, 8, 23, 15, 8, 27, 886926), 0.0)])"
      ]
     },
     "execution_count": 11,
     "metadata": {},
     "output_type": "execute_result"
    }
   ],
   "source": [
    "results.timing"
   ]
  }
 ],
 "metadata": {
  "kernelspec": {
   "display_name": "funman_venv",
   "language": "python",
   "name": "python3"
  },
  "language_info": {
   "codemirror_mode": {
    "name": "ipython",
    "version": 3
   },
   "file_extension": ".py",
   "mimetype": "text/x-python",
   "name": "python",
   "nbconvert_exporter": "python",
   "pygments_lexer": "ipython3",
   "version": "3.8.10"
  }
 },
 "nbformat": 4,
 "nbformat_minor": 2
}
