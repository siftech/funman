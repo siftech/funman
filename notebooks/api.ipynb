{
 "cells": [
  {
   "cell_type": "code",
   "execution_count": 2,
   "metadata": {},
   "outputs": [
    {
     "ename": "ImportError",
     "evalue": "cannot import name 'ConsistencyScenario' from 'funman_api_client.models' (/root/funman/funman-api-client/funman_api_client/models/__init__.py)",
     "output_type": "error",
     "traceback": [
      "\u001b[0;31m---------------------------------------------------------------------------\u001b[0m",
      "\u001b[0;31mImportError\u001b[0m                               Traceback (most recent call last)",
      "Cell \u001b[0;32mIn[2], line 2\u001b[0m\n\u001b[1;32m      1\u001b[0m \u001b[39mfrom\u001b[39;00m \u001b[39mfunman_api_client\u001b[39;00m \u001b[39mimport\u001b[39;00m Client\n\u001b[0;32m----> 2\u001b[0m \u001b[39mfrom\u001b[39;00m \u001b[39mfunman_api_client\u001b[39;00m\u001b[39m.\u001b[39;00m\u001b[39mmodels\u001b[39;00m \u001b[39mimport\u001b[39;00m (\n\u001b[1;32m      3\u001b[0m     ConsistencyScenario,\n\u001b[1;32m      4\u001b[0m     ConsistencyScenarioResult,\n\u001b[1;32m      5\u001b[0m     Config,\n\u001b[1;32m      6\u001b[0m     BilayerModel,\n\u001b[1;32m      7\u001b[0m     BilayerDynamics,\n\u001b[1;32m      8\u001b[0m     QueryLE,\n\u001b[1;32m      9\u001b[0m )\n\u001b[1;32m     10\u001b[0m \u001b[39mfrom\u001b[39;00m \u001b[39mfunman_api_client\u001b[39;00m\u001b[39m.\u001b[39;00m\u001b[39mapi\u001b[39;00m\u001b[39m.\u001b[39;00m\u001b[39mdefault\u001b[39;00m \u001b[39mimport\u001b[39;00m solve_solve_put\n\u001b[1;32m     11\u001b[0m \u001b[39mfrom\u001b[39;00m \u001b[39mfunman_api_client\u001b[39;00m\u001b[39m.\u001b[39;00m\u001b[39mtypes\u001b[39;00m \u001b[39mimport\u001b[39;00m Response\n",
      "\u001b[0;31mImportError\u001b[0m: cannot import name 'ConsistencyScenario' from 'funman_api_client.models' (/root/funman/funman-api-client/funman_api_client/models/__init__.py)"
     ]
    }
   ],
   "source": [
    "from funman_api_client import Client\n",
    "from funman_api_client.models import (\n",
    "    ConsistencyScenario,\n",
    "    ConsistencyScenarioResult,\n",
    "    Config,\n",
    "    BilayerModel,\n",
    "    BilayerDynamics,\n",
    "    QueryLE,\n",
    ")\n",
    "from funman_api_client.api.default import solve_solve_put\n",
    "from funman_api_client.types import Response\n",
    "from funman_api_client.models import BodySolveSolvePut\n",
    "\n",
    "from funman.api import api\n",
    "import json\n",
    "\n",
    "RESOURCES = os.path.join(\"../resources\")\n"
   ]
  },
  {
   "cell_type": "code",
   "execution_count": null,
   "metadata": {},
   "outputs": [
    {
     "ename": "AttributeError",
     "evalue": "'dict' object has no attribute 'to_dict'",
     "output_type": "error",
     "traceback": [
      "\u001b[0;31m---------------------------------------------------------------------------\u001b[0m",
      "\u001b[0;31mAttributeError\u001b[0m                            Traceback (most recent call last)",
      "Cell \u001b[0;32mIn[2], line 11\u001b[0m\n\u001b[1;32m      8\u001b[0m infected_threshold \u001b[39m=\u001b[39m \u001b[39m130\u001b[39m\n\u001b[1;32m      9\u001b[0m init_values \u001b[39m=\u001b[39m {\u001b[39m\"\u001b[39m\u001b[39mS\u001b[39m\u001b[39m\"\u001b[39m: \u001b[39m9998\u001b[39m, \u001b[39m\"\u001b[39m\u001b[39mI\u001b[39m\u001b[39m\"\u001b[39m: \u001b[39m1\u001b[39m, \u001b[39m\"\u001b[39m\u001b[39mR\u001b[39m\u001b[39m\"\u001b[39m: \u001b[39m1\u001b[39m}\n\u001b[0;32m---> 11\u001b[0m my_data: ConsistencyScenarioResult \u001b[39m=\u001b[39m solve_solve_put\u001b[39m.\u001b[39;49msync_detailed(\n\u001b[1;32m     12\u001b[0m     client\u001b[39m=\u001b[39;49mfunman_client,\n\u001b[1;32m     13\u001b[0m     json_body\u001b[39m=\u001b[39;49mBodySolveSolvePut(\n\u001b[1;32m     14\u001b[0m         ConsistencyScenario(\n\u001b[1;32m     15\u001b[0m             model\u001b[39m=\u001b[39;49mBilayerModel(\n\u001b[1;32m     16\u001b[0m                 BilayerDynamics(\n\u001b[1;32m     17\u001b[0m                     bilayer_json\n\u001b[1;32m     18\u001b[0m                 ),\n\u001b[1;32m     19\u001b[0m                 init_values\u001b[39m=\u001b[39;49minit_values,\n\u001b[1;32m     20\u001b[0m             ),\n\u001b[1;32m     21\u001b[0m             query\u001b[39m=\u001b[39;49mQueryLE(\u001b[39m\"\u001b[39;49m\u001b[39mI\u001b[39;49m\u001b[39m\"\u001b[39;49m, infected_threshold),\n\u001b[1;32m     22\u001b[0m         ),\n\u001b[1;32m     23\u001b[0m         config\u001b[39m=\u001b[39;49mConfig(),\n\u001b[1;32m     24\u001b[0m     ),\n\u001b[1;32m     25\u001b[0m )\n\u001b[1;32m     26\u001b[0m my_data\n",
      "File \u001b[0;32m~/funman/funman-api-client/funman_api_client/api/default/solve_solve_put.py:99\u001b[0m, in \u001b[0;36msync_detailed\u001b[0;34m(client, json_body)\u001b[0m\n\u001b[1;32m     81\u001b[0m \u001b[39mdef\u001b[39;00m \u001b[39msync_detailed\u001b[39m(\n\u001b[1;32m     82\u001b[0m     \u001b[39m*\u001b[39m,\n\u001b[1;32m     83\u001b[0m     client: Client,\n\u001b[1;32m     84\u001b[0m     json_body: BodySolveSolvePut,\n\u001b[1;32m     85\u001b[0m ) \u001b[39m-\u001b[39m\u001b[39m>\u001b[39m Response[Union[HTTPValidationError, Union[\u001b[39m\"\u001b[39m\u001b[39mConsistencyScenarioResult\u001b[39m\u001b[39m\"\u001b[39m, \u001b[39m\"\u001b[39m\u001b[39mSimulationScenarioResult\u001b[39m\u001b[39m\"\u001b[39m]]]:\n\u001b[1;32m     86\u001b[0m \u001b[39m    \u001b[39m\u001b[39m\"\"\"Solve\u001b[39;00m\n\u001b[1;32m     87\u001b[0m \n\u001b[1;32m     88\u001b[0m \u001b[39m    Args:\u001b[39;00m\n\u001b[0;32m   (...)\u001b[0m\n\u001b[1;32m     96\u001b[0m \u001b[39m        Response[Union[HTTPValidationError, Union['ConsistencyScenarioResult', 'SimulationScenarioResult']]]\u001b[39;00m\n\u001b[1;32m     97\u001b[0m \u001b[39m    \"\"\"\u001b[39;00m\n\u001b[0;32m---> 99\u001b[0m     kwargs \u001b[39m=\u001b[39m _get_kwargs(\n\u001b[1;32m    100\u001b[0m         client\u001b[39m=\u001b[39;49mclient,\n\u001b[1;32m    101\u001b[0m         json_body\u001b[39m=\u001b[39;49mjson_body,\n\u001b[1;32m    102\u001b[0m     )\n\u001b[1;32m    104\u001b[0m     response \u001b[39m=\u001b[39m httpx\u001b[39m.\u001b[39mrequest(\n\u001b[1;32m    105\u001b[0m         verify\u001b[39m=\u001b[39mclient\u001b[39m.\u001b[39mverify_ssl,\n\u001b[1;32m    106\u001b[0m         \u001b[39m*\u001b[39m\u001b[39m*\u001b[39mkwargs,\n\u001b[1;32m    107\u001b[0m     )\n\u001b[1;32m    109\u001b[0m     \u001b[39mreturn\u001b[39;00m _build_response(client\u001b[39m=\u001b[39mclient, response\u001b[39m=\u001b[39mresponse)\n",
      "File \u001b[0;32m~/funman/funman-api-client/funman_api_client/api/default/solve_solve_put.py:25\u001b[0m, in \u001b[0;36m_get_kwargs\u001b[0;34m(client, json_body)\u001b[0m\n\u001b[1;32m     22\u001b[0m headers: Dict[\u001b[39mstr\u001b[39m, \u001b[39mstr\u001b[39m] \u001b[39m=\u001b[39m client\u001b[39m.\u001b[39mget_headers()\n\u001b[1;32m     23\u001b[0m cookies: Dict[\u001b[39mstr\u001b[39m, Any] \u001b[39m=\u001b[39m client\u001b[39m.\u001b[39mget_cookies()\n\u001b[0;32m---> 25\u001b[0m json_json_body \u001b[39m=\u001b[39m json_body\u001b[39m.\u001b[39;49mto_dict()\n\u001b[1;32m     27\u001b[0m \u001b[39mreturn\u001b[39;00m {\n\u001b[1;32m     28\u001b[0m     \u001b[39m\"\u001b[39m\u001b[39mmethod\u001b[39m\u001b[39m\"\u001b[39m: \u001b[39m\"\u001b[39m\u001b[39mput\u001b[39m\u001b[39m\"\u001b[39m,\n\u001b[1;32m     29\u001b[0m     \u001b[39m\"\u001b[39m\u001b[39murl\u001b[39m\u001b[39m\"\u001b[39m: url,\n\u001b[0;32m   (...)\u001b[0m\n\u001b[1;32m     33\u001b[0m     \u001b[39m\"\u001b[39m\u001b[39mjson\u001b[39m\u001b[39m\"\u001b[39m: json_json_body,\n\u001b[1;32m     34\u001b[0m }\n",
      "File \u001b[0;32m~/funman/funman-api-client/funman_api_client/models/body_solve_solve_put.py:32\u001b[0m, in \u001b[0;36mBodySolveSolvePut.to_dict\u001b[0;34m(self)\u001b[0m\n\u001b[1;32m     29\u001b[0m scenario: Dict[\u001b[39mstr\u001b[39m, Any]\n\u001b[1;32m     31\u001b[0m \u001b[39mif\u001b[39;00m \u001b[39misinstance\u001b[39m(\u001b[39mself\u001b[39m\u001b[39m.\u001b[39mscenario, ConsistencyScenario):\n\u001b[0;32m---> 32\u001b[0m     scenario \u001b[39m=\u001b[39m \u001b[39mself\u001b[39;49m\u001b[39m.\u001b[39;49mscenario\u001b[39m.\u001b[39;49mto_dict()\n\u001b[1;32m     34\u001b[0m \u001b[39melse\u001b[39;00m:\n\u001b[1;32m     35\u001b[0m     scenario \u001b[39m=\u001b[39m \u001b[39mself\u001b[39m\u001b[39m.\u001b[39mscenario\u001b[39m.\u001b[39mto_dict()\n",
      "File \u001b[0;32m~/funman/funman-api-client/funman_api_client/models/consistency_scenario.py:58\u001b[0m, in \u001b[0;36mConsistencyScenario.to_dict\u001b[0;34m(self)\u001b[0m\n\u001b[1;32m     55\u001b[0m model: Dict[\u001b[39mstr\u001b[39m, Any]\n\u001b[1;32m     57\u001b[0m \u001b[39mif\u001b[39;00m \u001b[39misinstance\u001b[39m(\u001b[39mself\u001b[39m\u001b[39m.\u001b[39mmodel, BilayerModel):\n\u001b[0;32m---> 58\u001b[0m     model \u001b[39m=\u001b[39m \u001b[39mself\u001b[39;49m\u001b[39m.\u001b[39;49mmodel\u001b[39m.\u001b[39;49mto_dict()\n\u001b[1;32m     60\u001b[0m \u001b[39melse\u001b[39;00m:\n\u001b[1;32m     61\u001b[0m     model \u001b[39m=\u001b[39m \u001b[39mself\u001b[39m\u001b[39m.\u001b[39mmodel\u001b[39m.\u001b[39mto_dict()\n",
      "File \u001b[0;32m~/funman/funman-api-client/funman_api_client/models/bilayer_model.py:62\u001b[0m, in \u001b[0;36mBilayerModel.to_dict\u001b[0;34m(self)\u001b[0m\n\u001b[1;32m     61\u001b[0m \u001b[39mdef\u001b[39;00m \u001b[39mto_dict\u001b[39m(\u001b[39mself\u001b[39m) \u001b[39m-\u001b[39m\u001b[39m>\u001b[39m Dict[\u001b[39mstr\u001b[39m, Any]:\n\u001b[0;32m---> 62\u001b[0m     bilayer \u001b[39m=\u001b[39m \u001b[39mself\u001b[39;49m\u001b[39m.\u001b[39;49mbilayer\u001b[39m.\u001b[39;49mto_dict()\n\u001b[1;32m     64\u001b[0m     init_values: Union[Unset, Dict[\u001b[39mstr\u001b[39m, Any]] \u001b[39m=\u001b[39m UNSET\n\u001b[1;32m     65\u001b[0m     \u001b[39mif\u001b[39;00m \u001b[39mnot\u001b[39;00m \u001b[39misinstance\u001b[39m(\u001b[39mself\u001b[39m\u001b[39m.\u001b[39minit_values, Unset):\n",
      "File \u001b[0;32m~/funman/funman-api-client/funman_api_client/models/bilayer_dynamics.py:35\u001b[0m, in \u001b[0;36mBilayerDynamics.to_dict\u001b[0;34m(self)\u001b[0m\n\u001b[1;32m     34\u001b[0m \u001b[39mdef\u001b[39;00m \u001b[39mto_dict\u001b[39m(\u001b[39mself\u001b[39m) \u001b[39m-\u001b[39m\u001b[39m>\u001b[39m Dict[\u001b[39mstr\u001b[39m, Any]:\n\u001b[0;32m---> 35\u001b[0m     json_graph \u001b[39m=\u001b[39m \u001b[39mself\u001b[39;49m\u001b[39m.\u001b[39;49mjson_graph\u001b[39m.\u001b[39;49mto_dict()\n\u001b[1;32m     37\u001b[0m     state: Union[Unset, Dict[\u001b[39mstr\u001b[39m, Any]] \u001b[39m=\u001b[39m UNSET\n\u001b[1;32m     38\u001b[0m     \u001b[39mif\u001b[39;00m \u001b[39mnot\u001b[39;00m \u001b[39misinstance\u001b[39m(\u001b[39mself\u001b[39m\u001b[39m.\u001b[39mstate, Unset):\n",
      "\u001b[0;31mAttributeError\u001b[0m: 'dict' object has no attribute 'to_dict'"
     ]
    }
   ],
   "source": [
    "funman_client = Client(\"http://localhost:8190\")\n",
    "\n",
    "bilayer_path = os.path.join(\n",
    "    RESOURCES, \"bilayer\", \"CHIME_SIR_dynamics_BiLayer.json\"\n",
    ")\n",
    "with open(bilayer_path, \"r\") as bl:\n",
    "    bilayer_json = json.load(bl)\n",
    "infected_threshold = 130\n",
    "init_values = {\"S\": 9998, \"I\": 1, \"R\": 1}\n",
    "\n",
    "my_data: ConsistencyScenarioResult = solve_solve_put.sync_detailed(\n",
    "    client=funman_client,\n",
    "    json_body=BodySolveSolvePut(\n",
    "        ConsistencyScenario(\n",
    "            model=BilayerModel(\n",
    "                BilayerDynamics(\n",
    "                    bilayer_json\n",
    "                ),\n",
    "                init_values=init_values,\n",
    "            ),\n",
    "            query=QueryLE(\"I\", infected_threshold),\n",
    "        ),\n",
    "        config=Config(),\n",
    "    ),\n",
    ")\n",
    "my_data\n"
   ]
  },
  {
   "cell_type": "markdown",
   "metadata": {},
   "source": []
  }
 ],
 "metadata": {
  "kernelspec": {
   "display_name": "funman_venv",
   "language": "python",
   "name": "python3"
  },
  "language_info": {
   "codemirror_mode": {
    "name": "ipython",
    "version": 3
   },
   "file_extension": ".py",
   "mimetype": "text/x-python",
   "name": "python",
   "nbconvert_exporter": "python",
   "pygments_lexer": "ipython3",
   "version": "3.8.10"
  },
  "orig_nbformat": 4,
  "vscode": {
   "interpreter": {
    "hash": "c4119eda3b1833fe9fd8fbf30e1a97c798b493dbeda1893c2d82ebe0184730f9"
   }
  }
 },
 "nbformat": 4,
 "nbformat_minor": 2
}
