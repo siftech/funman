{
 "cells": [
  {
   "cell_type": "code",
   "execution_count": 2,
   "metadata": {},
   "outputs": [
    {
     "name": "stderr",
     "output_type": "stream",
     "text": [
      "/tmp/ipykernel_57680/3063950419.py:39: FutureWarning: DataFrame.interpolate with method=pad is deprecated and will raise in a future version. Use obj.ffill() or obj.bfill() instead.\n",
      "  comparison_df = comparison_df.interpolate(method=\"pad\", limit_direction=\"forward\")\n"
     ]
    },
    {
     "data": {
      "text/plain": [
       "entropy     46.034117\n",
       "baseline    43.599075\n",
       "dtype: float64"
      ]
     },
     "execution_count": 2,
     "metadata": {},
     "output_type": "execute_result"
    }
   ],
   "source": [
    "from funman.server.query import FunmanResults\n",
    "import json\n",
    "from scipy import integrate\n",
    "\n",
    "ENTROPY_RESULTS_FILE = \"../out/6480bf47-debc-4072-a950-aa30e58c1a58.json\"\n",
    "BASELINE_RESULTS_FILE =  \"../out/66ded044-11d8-4513-bb8d-0f0b81b90a34.json\"\n",
    "\n",
    "def open_results(results_file_path):\n",
    "    with open(results_file_path, \"r\") as results_file:\n",
    "        results = FunmanResults.model_validate(json.load(results_file))\n",
    "        return results\n",
    "\n",
    "entropy_results = open_results(ENTROPY_RESULTS_FILE)\n",
    "baseline_results = open_results(BASELINE_RESULTS_FILE)\n",
    "\n",
    "entropy_timing = entropy_results.timing\n",
    "baseline_timing = baseline_results.timing\n",
    "\n",
    "import pandas as pd\n",
    "from datetime import timedelta\n",
    "\n",
    "def progress_to_dataframe(timing, name):\n",
    "    df = pd.DataFrame(timing.progress_timeseries).rename(columns={0:\"time\", 1:name})\n",
    "    # .set_index(\"time\")\n",
    "    df.time = df.time.apply(lambda x: x-timing.start_time)\n",
    "    df = pd.concat([pd.DataFrame({\"time\":[timedelta()], name:0.0}), df])\n",
    "    # df.loc[timing.start_time] = 0.0\n",
    "    df = df.set_index(\"time\").sort_index()\n",
    "    return df\n",
    "\n",
    "entropy_df = progress_to_dataframe(entropy_timing, \"entropy\").rolling(2).apply(integrate.trapezoid)\n",
    "baseline_df = progress_to_dataframe(baseline_timing, \"baseline\").rolling(2).apply(integrate.trapezoid)\n",
    "comparison_df = entropy_df.join(baseline_df, how=\"outer\")\n",
    "\n",
    "\n",
    "\n",
    "\n",
    "\n",
    "comparison_df = comparison_df.interpolate(method=\"pad\", limit_direction=\"forward\")\n",
    "comparison_df.to_json(\"results.json\")\n",
    "comparison_df.cumsum().max()\n",
    "\n",
    "# entropy_df\n",
    "# baseline_df\n",
    "\n",
    "# comparison_df.rolling(2).apply(integrate.trapezoid)"
   ]
  },
  {
   "cell_type": "code",
   "execution_count": 1,
   "metadata": {},
   "outputs": [
    {
     "data": {
      "text/plain": [
       "Text(0, 0.5, 'Progress %/100')"
      ]
     },
     "execution_count": 1,
     "metadata": {},
     "output_type": "execute_result"
    },
    {
     "data": {
      "image/png": "[encoded data removed]",
      "text/plain": [
       "<Figure size 640x480 with 1 Axes>"
      ]
     },
     "metadata": {},
     "output_type": "display_data"
    }
   ],
   "source": [
    "\n",
    "import matplotlib.pyplot as plt\n",
    "import pandas as pd\n",
    "\n",
    "comparison_df = pd.read_json(\"results.json\")\n",
    "# comparison_df = comparison_df.interpolate(method=\"pad\")\n",
    "ax = plt.gca()\n",
    "ax.plot(comparison_df.entropy.dropna())\n",
    "ax.plot(comparison_df.baseline.dropna())\n",
    "ax.legend(labels=comparison_df.columns)\n",
    "# ax.set_xscale(\"log\")\n",
    "# ax.set_yscale(\"log\")\n",
    "ax.set_xlabel(\"Runtime (ms)\")\n",
    "ax.set_ylabel(\"Progress %/100\")\n",
    "# ax.set_xticklabels(range(0.0, 1.0, 0.1))\n",
    "\n",
    "\n",
    "# comparison_df, pad_df"
   ]
  },
  {
   "cell_type": "code",
   "execution_count": 2,
   "metadata": {},
   "outputs": [
    {
     "data": {
      "text/html": [
       "<div>\n",
       "<style scoped>\n",
       "    .dataframe tbody tr th:only-of-type {\n",
       "        vertical-align: middle;\n",
       "    }\n",
       "\n",
       "    .dataframe tbody tr th {\n",
       "        vertical-align: top;\n",
       "    }\n",
       "\n",
       "    .dataframe thead th {\n",
       "        text-align: right;\n",
       "    }\n",
       "</style>\n",
       "<table border=\"1\" class=\"dataframe\">\n",
       "  <thead>\n",
       "    <tr style=\"text-align: right;\">\n",
       "      <th></th>\n",
       "      <th>entropy</th>\n",
       "      <th>baseline</th>\n",
       "    </tr>\n",
       "  </thead>\n",
       "  <tbody>\n",
       "    <tr>\n",
       "      <th>0</th>\n",
       "      <td>0.000000</td>\n",
       "      <td>0.000000</td>\n",
       "    </tr>\n",
       "    <tr>\n",
       "      <th>1005</th>\n",
       "      <td>0.000000</td>\n",
       "      <td>0.778212</td>\n",
       "    </tr>\n",
       "    <tr>\n",
       "      <th>1034</th>\n",
       "      <td>0.779330</td>\n",
       "      <td>0.778212</td>\n",
       "    </tr>\n",
       "    <tr>\n",
       "      <th>2033</th>\n",
       "      <td>0.779330</td>\n",
       "      <td>0.778417</td>\n",
       "    </tr>\n",
       "    <tr>\n",
       "      <th>2054</th>\n",
       "      <td>0.779806</td>\n",
       "      <td>0.778417</td>\n",
       "    </tr>\n",
       "    <tr>\n",
       "      <th>...</th>\n",
       "      <td>...</td>\n",
       "      <td>...</td>\n",
       "    </tr>\n",
       "    <tr>\n",
       "      <th>106593</th>\n",
       "      <td>0.792214</td>\n",
       "      <td>0.938429</td>\n",
       "    </tr>\n",
       "    <tr>\n",
       "      <th>107760</th>\n",
       "      <td>0.792214</td>\n",
       "      <td>0.938646</td>\n",
       "    </tr>\n",
       "    <tr>\n",
       "      <th>109048</th>\n",
       "      <td>0.792214</td>\n",
       "      <td>0.938731</td>\n",
       "    </tr>\n",
       "    <tr>\n",
       "      <th>110332</th>\n",
       "      <td>0.792214</td>\n",
       "      <td>0.938867</td>\n",
       "    </tr>\n",
       "    <tr>\n",
       "      <th>111529</th>\n",
       "      <td>0.792214</td>\n",
       "      <td>0.938867</td>\n",
       "    </tr>\n",
       "  </tbody>\n",
       "</table>\n",
       "<p>151 rows × 2 columns</p>\n",
       "</div>"
      ],
      "text/plain": [
       "         entropy  baseline\n",
       "0       0.000000  0.000000\n",
       "1005    0.000000  0.778212\n",
       "1034    0.779330  0.778212\n",
       "2033    0.779330  0.778417\n",
       "2054    0.779806  0.778417\n",
       "...          ...       ...\n",
       "106593  0.792214  0.938429\n",
       "107760  0.792214  0.938646\n",
       "109048  0.792214  0.938731\n",
       "110332  0.792214  0.938867\n",
       "111529  0.792214  0.938867\n",
       "\n",
       "[151 rows x 2 columns]"
      ]
     },
     "execution_count": 2,
     "metadata": {},
     "output_type": "execute_result"
    }
   ],
   "source": [
    "comparison_df\n",
    "\n"
   ]
  }
 ],
 "metadata": {
  "kernelspec": {
   "display_name": "funman_venv",
   "language": "python",
   "name": "python3"
  },
  "language_info": {
   "codemirror_mode": {
    "name": "ipython",
    "version": 3
   },
   "file_extension": ".py",
   "mimetype": "text/x-python",
   "name": "python",
   "nbconvert_exporter": "python",
   "pygments_lexer": "ipython3",
   "version": "3.10.12"
  }
 },
 "nbformat": 4,
 "nbformat_minor": 2
}
