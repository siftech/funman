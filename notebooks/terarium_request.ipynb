{
 "cells": [
  {
   "cell_type": "code",
   "execution_count": 1,
   "metadata": {},
   "outputs": [],
   "source": [
    "from IPython.display import JSON\n",
    "from pathlib import Path\n",
    "\n",
    "import json\n",
    "\n",
    "# Setup Paths\n",
    "RESOURCES = Path(\"../resources\").resolve()"
   ]
  },
  {
   "attachments": {},
   "cell_type": "markdown",
   "metadata": {},
   "source": [
    "#### Select json files"
   ]
  },
  {
   "cell_type": "code",
   "execution_count": 9,
   "metadata": {},
   "outputs": [],
   "source": [
    "EXAMPLE_DIR = RESOURCES / \"amr\" / \"petrinet\" / \"amr-examples\"\n",
    "MODEL_PATH = EXAMPLE_DIR / \"sir.json\"\n",
    "REQUEST_PATH = EXAMPLE_DIR / \"sir_request1.json\""
   ]
  },
  {
   "attachments": {},
   "cell_type": "markdown",
   "metadata": {},
   "source": [
    "#### Read into python"
   ]
  },
  {
   "cell_type": "code",
   "execution_count": 10,
   "metadata": {},
   "outputs": [
    {
     "data": {
      "application/json": {
       "model": {
        "description": "SIR model created by Ben, Micah, Brandon",
        "metadata": {
         "processed_at": 1682964953,
         "processed_by": "mit:process-node1",
         "variable_statements": [
          {
           "id": "v0",
           "metadata": [],
           "provenance": {
            "description": "text, dataset, formula annotation (chunwei@mit.edu)",
            "method": "MIT annotation"
           },
           "variable": {
            "column": [
             {
              "dataset": {
               "id": "9",
               "metadata": "https://github.com/DARPA-ASKEM/program-milestones/blob/main/6-month-milestone/evaluation/scenario_3/ta_1/google-health-data/usa-vaccinations.csv",
               "name": "usa-vaccinations.csv"
              },
              "id": "9-2",
              "name": "new_persons_vaccinated"
             },
             {
              "dataset": {
               "id": "9",
               "metadata": "https://github.com/DARPA-ASKEM/program-milestones/blob/main/6-month-milestone/evaluation/scenario_3/ta_1/google-health-data/usa-vaccinations.csv",
               "name": "usa-vaccinations.csv"
              },
              "id": "9-3",
              "name": "cumulative_persons_vaccinated"
             }
            ],
            "dkg_groundings": [],
            "equations": [],
            "id": "v0",
            "metadata": [
             {
              "type": "text_annotation",
              "value": " Vaccine Effectiveness"
             },
             {
              "type": "text_annotation",
              "value": " Vaccine Effectiveness"
             }
            ],
            "name": "VE",
            "paper": {
             "doi": "10.1101/2021.10.08.21264595",
             "file_directory": "https://www.medrxiv.org/content/10.1101/2021.10.08.21264595v1",
             "id": "COVID-19 Vaccine Effectiveness by Product and Timing in New York State"
            }
           }
          }
         ]
        },
        "model": {
         "states": [
          {
           "description": "Number of individuals that are 'susceptible' to a disease infection",
           "grounding": {
            "identifiers": {
             "ido": "0000514"
            }
           },
           "id": "S",
           "name": "Susceptible",
           "units": {
            "expression": "person",
            "expression_mathml": "<ci>person</ci>"
           }
          },
          {
           "description": "Number of individuals that are 'infected' by a disease",
           "grounding": {
            "identifiers": {
             "ido": "0000511"
            }
           },
           "id": "I",
           "name": "Infected",
           "units": {
            "expression": "person",
            "expression_mathml": "<ci>person</ci>"
           }
          },
          {
           "description": "Number of individuals that have 'recovered' from a disease infection",
           "grounding": {
            "identifiers": {
             "ido": "0000592"
            }
           },
           "id": "R",
           "name": "Recovered",
           "units": {
            "expression": "person",
            "expression_mathml": "<ci>person</ci>"
           }
          }
         ],
         "transitions": [
          {
           "id": "inf",
           "input": [
            "S",
            "I"
           ],
           "output": [
            "I",
            "I"
           ],
           "properties": {
            "description": "Infective process between individuals",
            "name": "Infection"
           }
          },
          {
           "id": "rec",
           "input": [
            "I"
           ],
           "output": [
            "R"
           ],
           "properties": {
            "description": "Recovery process of a infected individual",
            "name": "Recovery"
           }
          }
         ]
        },
        "model_version": "0.1",
        "name": "SIR Model",
        "schema": "https://raw.githubusercontent.com/DARPA-ASKEM/Model-Representations/petrinet_v0.1/petrinet/petrinet_schema.json",
        "schema_name": "petrinet",
        "semantics": {
         "ode": {
          "initials": [
           {
            "expression": "S0",
            "expression_mathml": "<ci>S0</ci>",
            "target": "S"
           },
           {
            "expression": "I0",
            "expression_mathml": "<ci>I0</ci>",
            "target": "I"
           },
           {
            "expression": "R0",
            "expression_mathml": "<ci>R0</ci>",
            "target": "R"
           }
          ],
          "observables": [
           {
            "expression": "S+R",
            "expression_mathml": "<apply><plus/><ci>S</ci><ci>R</ci></apply>",
            "id": "noninf",
            "name": "Non-infectious",
            "states": [
             "S",
             "R"
            ]
           }
          ],
          "parameters": [
           {
            "description": "infection rate",
            "distribution": {
             "parameters": {
              "maximum": 2.8e-7,
              "minimum": 2.6e-7
             },
             "type": "StandardUniform1"
            },
            "id": "beta",
            "name": "β",
            "units": {
             "expression": "1/(person*day)",
             "expression_mathml": "<apply><divide/><cn>1</cn><apply><times/><ci>person</ci><ci>day</ci></apply></apply>"
            },
            "value": 2.7e-7
           },
           {
            "description": "recovery rate",
            "distribution": {
             "parameters": {
              "maximum": 0.18,
              "minimum": 0.1
             },
             "type": "StandardUniform1"
            },
            "grounding": {
             "identifiers": {
              "askemo": "0000013"
             }
            },
            "id": "gamma",
            "name": "γ",
            "units": {
             "expression": "1/day",
             "expression_mathml": "<apply><divide/><cn>1</cn><ci>day</ci></apply>"
            },
            "value": 0.14
           },
           {
            "description": "Total susceptible population at timestep 0",
            "id": "S0",
            "name": "S₀",
            "value": 1000
           },
           {
            "description": "Total infected population at timestep 0",
            "id": "I0",
            "name": "I₀",
            "value": 1
           },
           {
            "description": "Total recovered population at timestep 0",
            "id": "R0",
            "name": "R₀",
            "value": 0
           }
          ],
          "rates": [
           {
            "expression": "S*I*beta",
            "expression_mathml": "<apply><times/><ci>S</ci><ci>I</ci><ci>beta</ci></apply>",
            "target": "inf"
           },
           {
            "expression": "I*gamma",
            "expression_mathml": "<apply><times/><ci>I</ci><ci>gamma</ci></apply>",
            "target": "rec"
           }
          ],
          "time": {
           "id": "t",
           "units": {
            "expression": "day",
            "expression_mathml": "<ci>day</ci>"
           }
          }
         }
        }
       },
       "request": {
        "config": {
         "dreal_mcts": true,
         "solver": "dreal",
         "tolerance": 1e-8
        },
        "parameters": [
         {
          "label": "all",
          "lb": 2.6e-7,
          "name": "beta",
          "ub": 2.8e-7
         },
         {
          "label": "all",
          "lb": 0.1,
          "name": "gamma",
          "ub": 0.18
         },
         {
          "label": "any",
          "lb": 1000,
          "name": "S0",
          "ub": 1000
         },
         {
          "label": "any",
          "lb": 1,
          "name": "I0",
          "ub": 1
         },
         {
          "label": "any",
          "lb": 0,
          "name": "R0",
          "ub": 0
         }
        ],
        "query": {
         "queries": [
          {
           "ub": 200,
           "variable": "I"
          }
         ]
        },
        "structure_parameters": [
         {
          "label": "all",
          "lb": 5,
          "name": "num_steps",
          "ub": 5
         },
         {
          "label": "all",
          "lb": 2,
          "name": "step_size",
          "ub": 2
         }
        ]
       }
      },
      "text/plain": [
       "<IPython.core.display.JSON object>"
      ]
     },
     "execution_count": 10,
     "metadata": {
      "application/json": {
       "expanded": false,
       "root": "root"
      }
     },
     "output_type": "execute_result"
    }
   ],
   "source": [
    "model = json.loads(MODEL_PATH.read_bytes())\n",
    "request = json.loads(REQUEST_PATH.read_bytes())\n",
    "\n",
    "JSON({\n",
    "    \"model\": model,\n",
    "    \"request\": request\n",
    "})"
   ]
  },
  {
   "attachments": {},
   "cell_type": "markdown",
   "metadata": {},
   "source": [
    "#### Paste above into https://app.terarium.ai/funman/docs#/default/post_queries_api_queries_post"
   ]
  },
  {
   "attachments": {},
   "cell_type": "markdown",
   "metadata": {},
   "source": [
    "#### Retrieve the 'id' from the response body.\n",
    "For example:\n",
    "```json\n",
    "{\n",
    "  \"id\": \"fffd91c0-d40e-4a9b-ba39-8522faeb444f\",\n",
    "  [...]\n",
    "}\n",
    "```"
   ]
  },
  {
   "attachments": {},
   "cell_type": "markdown",
   "metadata": {},
   "source": [
    "#### Use the id as the query_id for: https://app.terarium.ai/funman/docs#/default/get_queries_api_queries__query_id__get"
   ]
  },
  {
   "attachments": {},
   "cell_type": "markdown",
   "metadata": {},
   "source": [
    "#### Retrieve the 'parameter_space' from the response body.\n",
    "For example:\n",
    "```json\n",
    "{\n",
    "  [...]\n",
    "  \"parameter_space\": {\n",
    "    \"true_points\": [\n",
    "      {\n",
    "        \"label\": \"true\",\n",
    "        \"values\": {\n",
    "          \"R0\": 0,\n",
    "          \"S0\": 1000,\n",
    "          \"beta\": 2.7e-7,\n",
    "          \"gamma\": 0.14,\n",
    "          \"I0\": 1\n",
    "        }\n",
    "      }\n",
    "    ]\n",
    "  }\n",
    "}\n",
    "```"
   ]
  }
 ],
 "metadata": {
  "kernelspec": {
   "display_name": "funman_venv",
   "language": "python",
   "name": "python3"
  },
  "language_info": {
   "codemirror_mode": {
    "name": "ipython",
    "version": 3
   },
   "file_extension": ".py",
   "mimetype": "text/x-python",
   "name": "python",
   "nbconvert_exporter": "python",
   "pygments_lexer": "ipython3",
   "version": "3.8.10"
  },
  "orig_nbformat": 4
 },
 "nbformat": 4,
 "nbformat_minor": 2
}
