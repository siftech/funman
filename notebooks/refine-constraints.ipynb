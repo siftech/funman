{
 "cells": [
  {
   "cell_type": "code",
   "execution_count": 10,
   "metadata": {},
   "outputs": [
    {
     "name": "stdout",
     "output_type": "stream",
     "text": [
      "The autoreload extension is already loaded. To reload it, use:\n",
      "  %reload_ext autoreload\n"
     ]
    }
   ],
   "source": [
    "import os\n",
    "from funman.utils.run import Runner\n",
    "from pathlib import Path\n",
    "import json\n",
    "import logging\n",
    "from IPython.display import Image, display\n",
    "\n",
    "# remove matplotlib debugging\n",
    "logging.getLogger('matplotlib.font_manager').disabled = True\n",
    "logging.getLogger('matplotlib.pyplot').disabled = True\n",
    "\n",
    "logging.getLogger('funman.translate.translate').setLevel(logging.DEBUG)\n",
    "\n",
    "# %matplotlib inline\n",
    "# %matplotlib notebook\n",
    "%load_ext autoreload\n",
    "%autoreload 2\n",
    "\n",
    "this_dir = Path.cwd()\n",
    "\n",
    "RESOURCES = os.path.join(\n",
    "    this_dir, \"../resources\"\n",
    ")\n",
    "AMR_EXAMPLES_DIR = os.path.join(RESOURCES, \"amr\")\n",
    "AMR_PETRI_DIR = os.path.join(AMR_EXAMPLES_DIR, \"petrinet\", \"amr-examples\")\n",
    "MIRA_PETRI_DIR = os.path.join(AMR_EXAMPLES_DIR, \"petrinet\", \"mira\")\n",
    "\n",
    "out_dir = os.path.join(\n",
    "    this_dir, \"out\"\n",
    ")\n",
    "if not os.path.exists(out_dir):\n",
    "        os.mkdir(out_dir)\n"
   ]
  },
  {
   "cell_type": "code",
   "execution_count": 11,
   "metadata": {},
   "outputs": [],
   "source": [
    "base_model = os.path.join(MIRA_PETRI_DIR, \"models\", \"eval_scenario1_base_simple.json\")\n",
    "base_request = {\n",
    "  \"query\": {},\n",
    "  \"parameters\": [\n",
    "      \n",
    "  ],\n",
    "  \"structure_parameters\": [\n",
    "    {\n",
    "      \"name\": \"num_steps\",\n",
    "      \"lb\": 20,\n",
    "      \"ub\": 20,\n",
    "      \"label\": \"all\"\n",
    "    },\n",
    "    {\n",
    "      \"name\": \"step_size\",\n",
    "      \"lb\": 1,\n",
    "      \"ub\": 1,\n",
    "      \"label\": \"all\"\n",
    "    }\n",
    "  ],\n",
    "  \"config\": {}\n",
    "}\n",
    "parameters = [\"N\", \"beta\", \"r_E_to_I\", \"p_I_to_R\", \"r_I_to_R\", \"p_I_to_H\", \"r_I_to_H\", \"p_H_to_R\",  \"r_H_to_R\", \"p_H_to_D\", \"r_H_to_D\"]\n"
   ]
  },
  {
   "cell_type": "code",
   "execution_count": null,
   "metadata": {},
   "outputs": [],
   "source": [
    "# Is the base model consistent, given the default parameter values?\n",
    "\n",
    "model = base_model\n",
    "request = base_request\n",
    "\n",
    "# modify config to enable extraction of the variables describing the true point\n",
    "# request[\"config\"][\"substitute_subformulas\"]= False\n",
    "request[\"config\"][\"profile\"] = True\n",
    "\n",
    "result = Runner().run(model, request, case_out_dir=out_dir)\n",
    "points = result.parameter_space.true_points[0:1]\n",
    "result.plot(points, variables=[\"D\", \"E\", \"H\", \"I\", \"R\", \"S\"])"
   ]
  },
  {
   "cell_type": "code",
   "execution_count": null,
   "metadata": {},
   "outputs": [],
   "source": [
    "point_parameters = [ {param: p.values[param] for param in parameters} for p in points]\n",
    "point_parameters"
   ]
  },
  {
   "cell_type": "code",
   "execution_count": null,
   "metadata": {},
   "outputs": [],
   "source": [
    "import os\n",
    "os.system(f\"gprof2dot -f pstats {this_dir}/profile.stats | dot -Tpng -o profile.png\")\n",
    "from IPython.display import Image, display\n",
    "display(Image(filename='profile.png'))"
   ]
  },
  {
   "cell_type": "code",
   "execution_count": 14,
   "metadata": {},
   "outputs": [
    {
     "name": "stdout",
     "output_type": "stream",
     "text": [
      "INFO:funman.server.worker:FunmanWorker running...\n",
      "INFO:funman.server.worker:Starting work on: 2d4e1eff-a167-40d1-9037-c69de2adc566\n",
      "beta := 7800046349888065/2147483648\n",
      "r_E_to_I := -1559274578947117/536870912\n",
      "p_I_to_R := 0.0\n",
      "r_I_to_R := 0.0\n",
      "p_I_to_H := 0.0\n",
      "r_I_to_H := 0.0\n",
      "D_0 := 0.0\n",
      "D_1 := 0.0\n"
     ]
    }
   ],
   "source": [
    "# Relax the parameters to see if an alternative parameterization would work.\n",
    "model = base_model\n",
    "request = base_request.copy()\n",
    "request[\"parameters\"] = [\n",
    "    {\n",
    "        \"name\": param,\n",
    "        \"label\": \"any\"\n",
    "    } for param in parameters if param != \"N\"\n",
    "]\n",
    "# request[\"config\"][\"profile\"] = True\n",
    "request[\"config\"][\"substitute_subformulas\"] = True\n",
    "request[\"config\"][\"simplify_query\"] = True\n",
    "\n",
    "# Restrict attention to area where the important behavior occurs\n",
    "num_steps_param = next(p for p in request[\"structure_parameters\"] if p[\"name\"] == \"num_steps\")\n",
    "num_steps_param[\"lb\"]= 2\n",
    "num_steps_param[\"ub\"]= 2\n",
    "\n",
    "result = Runner().run(model, request, case_out_dir=out_dir)\n",
    "points = result.parameter_space.true_points[0:1]\n",
    "point_parameters = [ {param: p.values[param] for param in parameters} for p in points]\n",
    "print(point_parameters)\n",
    "\n",
    "result.plot(points, variables=[\"D\", \"E\", \"H\", \"I\", \"R\", \"S\"])\n"
   ]
  },
  {
   "cell_type": "code",
   "execution_count": null,
   "metadata": {},
   "outputs": [],
   "source": [
    "\n",
    "os.system(f\"gprof2dot -f pstats {this_dir}/profile.stats | dot -Tpng -o profile.png\")\n",
    "display(Image(filename='profile.png'))"
   ]
  }
 ],
 "metadata": {
  "kernelspec": {
   "display_name": "funman_venv",
   "language": "python",
   "name": "python3"
  },
  "language_info": {
   "codemirror_mode": {
    "name": "ipython",
    "version": 3
   },
   "file_extension": ".py",
   "mimetype": "text/x-python",
   "name": "python",
   "nbconvert_exporter": "python",
   "pygments_lexer": "ipython3",
   "version": "3.8.10"
  },
  "orig_nbformat": 4
 },
 "nbformat": 4,
 "nbformat_minor": 2
}
