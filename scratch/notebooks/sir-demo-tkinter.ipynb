{
 "cells": [
  {
   "cell_type": "code",
   "execution_count": 21,
   "id": "60c811e8",
   "metadata": {},
   "outputs": [],
   "source": [
    "import tkinter as tk"
   ]
  },
  {
   "cell_type": "code",
   "execution_count": 22,
   "id": "67d7cb90",
   "metadata": {},
   "outputs": [
    {
     "name": "stdout",
     "output_type": "stream",
     "text": [
      "The autoreload extension is already loaded. To reload it, use:\n",
      "  %reload_ext autoreload\n",
      "Requirement already satisfied: scipy in /Users/dmosaphir/SIFT/Projects/ASKEM/code/ts-trajectory/.venv/lib/python3.9/site-packages (1.13.1)\n",
      "Requirement already satisfied: numpy<2.3,>=1.22.4 in /Users/dmosaphir/SIFT/Projects/ASKEM/code/ts-trajectory/.venv/lib/python3.9/site-packages (from scipy) (1.26.4)\n",
      "\u001b[33mWARNING: You are using pip version 22.0.4; however, version 24.0 is available.\n",
      "You should consider upgrading via the '/Users/dmosaphir/SIFT/Projects/ASKEM/code/ts-trajectory/.venv/bin/python3 -m pip install --upgrade pip' command.\u001b[0m\u001b[33m\n",
      "\u001b[0mRequirement already satisfied: matplotlib in /Users/dmosaphir/SIFT/Projects/ASKEM/code/ts-trajectory/.venv/lib/python3.9/site-packages (3.9.0)\n",
      "Requirement already satisfied: contourpy>=1.0.1 in /Users/dmosaphir/SIFT/Projects/ASKEM/code/ts-trajectory/.venv/lib/python3.9/site-packages (from matplotlib) (1.2.1)\n",
      "Requirement already satisfied: fonttools>=4.22.0 in /Users/dmosaphir/SIFT/Projects/ASKEM/code/ts-trajectory/.venv/lib/python3.9/site-packages (from matplotlib) (4.53.0)\n",
      "Requirement already satisfied: packaging>=20.0 in /Users/dmosaphir/SIFT/Projects/ASKEM/code/ts-trajectory/.venv/lib/python3.9/site-packages (from matplotlib) (24.0)\n",
      "Requirement already satisfied: importlib-resources>=3.2.0 in /Users/dmosaphir/SIFT/Projects/ASKEM/code/ts-trajectory/.venv/lib/python3.9/site-packages (from matplotlib) (6.4.0)\n",
      "Requirement already satisfied: pyparsing>=2.3.1 in /Users/dmosaphir/SIFT/Projects/ASKEM/code/ts-trajectory/.venv/lib/python3.9/site-packages (from matplotlib) (3.1.2)\n",
      "Requirement already satisfied: cycler>=0.10 in /Users/dmosaphir/SIFT/Projects/ASKEM/code/ts-trajectory/.venv/lib/python3.9/site-packages (from matplotlib) (0.12.1)\n",
      "Requirement already satisfied: kiwisolver>=1.3.1 in /Users/dmosaphir/SIFT/Projects/ASKEM/code/ts-trajectory/.venv/lib/python3.9/site-packages (from matplotlib) (1.4.5)\n",
      "Requirement already satisfied: pillow>=8 in /Users/dmosaphir/SIFT/Projects/ASKEM/code/ts-trajectory/.venv/lib/python3.9/site-packages (from matplotlib) (10.3.0)\n",
      "Requirement already satisfied: numpy>=1.23 in /Users/dmosaphir/SIFT/Projects/ASKEM/code/ts-trajectory/.venv/lib/python3.9/site-packages (from matplotlib) (1.26.4)\n",
      "Requirement already satisfied: python-dateutil>=2.7 in /Users/dmosaphir/SIFT/Projects/ASKEM/code/ts-trajectory/.venv/lib/python3.9/site-packages (from matplotlib) (2.9.0.post0)\n",
      "Requirement already satisfied: zipp>=3.1.0 in /Users/dmosaphir/SIFT/Projects/ASKEM/code/ts-trajectory/.venv/lib/python3.9/site-packages (from importlib-resources>=3.2.0->matplotlib) (3.19.2)\n",
      "Requirement already satisfied: six>=1.5 in /Users/dmosaphir/SIFT/Projects/ASKEM/code/ts-trajectory/.venv/lib/python3.9/site-packages (from python-dateutil>=2.7->matplotlib) (1.16.0)\n",
      "\u001b[33mWARNING: You are using pip version 22.0.4; however, version 24.0 is available.\n",
      "You should consider upgrading via the '/Users/dmosaphir/SIFT/Projects/ASKEM/code/ts-trajectory/.venv/bin/python3 -m pip install --upgrade pip' command.\u001b[0m\u001b[33m\n",
      "\u001b[0m"
     ]
    }
   ],
   "source": [
    "%load_ext autoreload\n",
    "%autoreload 2\n",
    "!pip install scipy\n",
    "!pip install matplotlib\n",
    "\n",
    "import scipy\n",
    "from scipy.integrate import odeint\n",
    "import numpy as np\n",
    "import matplotlib.pyplot as plt\n",
    "import random\n",
    "import sir_model\n",
    "import json\n",
    "from random import randint"
   ]
  },
  {
   "cell_type": "code",
   "execution_count": 23,
   "id": "42a8bb3a",
   "metadata": {},
   "outputs": [],
   "source": [
    "line_id = None\n",
    "line_points = []\n",
    "line_options = {}\n",
    "line_points_saved = []\n",
    "clicked_points_saved = []\n",
    "\n",
    "def draw_line(event):\n",
    "    global line_id\n",
    "    line_points.extend((event.x, event.y))\n",
    "    if line_id is not None:\n",
    "        canvas.delete(line_id)\n",
    "    line_id = canvas.create_line(line_points, **line_options)\n",
    "\n",
    "\n",
    "def set_start(event):\n",
    "    line_points.extend((event.x, event.y))\n",
    "\n",
    "\n",
    "def end_line(event=None):\n",
    "    global line_id\n",
    "    line_points_saved.extend(line_points)\n",
    "    line_points.clear()\n",
    "    line_id = None\n",
    "    \n",
    "def draw_point(event):\n",
    "    canvas.create_oval(event.x, event.y, event.x, event.y, width = 5, fill = 'black')\n",
    "    clicked_points_saved.extend((event.x, event.y))\n"
   ]
  },
  {
   "cell_type": "code",
   "execution_count": 24,
   "id": "5b04085d",
   "metadata": {},
   "outputs": [],
   "source": [
    "root = tk.Tk()\n",
    "\n",
    "canvas = tk.Canvas()\n",
    "canvas.pack()\n",
    "\n",
    "#canvas.bind('<Button-1>', draw_point)\n",
    "canvas.bind('<Button-1>', set_start)\n",
    "canvas.bind('<B1-Motion>', draw_line)\n",
    "canvas.bind('<ButtonRelease-1>', end_line)\n",
    "\n",
    "root.mainloop()"
   ]
  },
  {
   "cell_type": "code",
   "execution_count": 25,
   "id": "2817cbec",
   "metadata": {},
   "outputs": [
    {
     "name": "stdout",
     "output_type": "stream",
     "text": [
      "[17, 19, 21, 23, 26, 30, 33, 37, 40, 43, 45, 47, 49, 52, 55, 58, 62, 65, 68, 70, 73, 76, 79, 81, 83, 84, 86, 87, 89, 91, 94, 96, 98, 100, 101, 102, 102, 103, 104, 104, 105, 106, 106, 107, 107, 107, 108, 109, 109, 110, 111, 111, 112, 113, 114, 115, 117, 118, 119, 120, 122, 123, 124, 125, 126, 127, 129, 132, 135, 138, 141, 144, 146, 148, 150, 153, 155, 157, 160, 162, 165, 167, 169, 172, 173, 175, 177, 179, 181, 183, 185, 186, 188, 189, 191, 193, 194, 196, 197, 198, 200, 202, 204, 205, 207, 208, 210, 212, 214, 216, 218, 220, 222, 223, 224, 226, 227, 229, 230, 232, 234, 236, 237, 239, 241, 243, 244, 246, 247, 248, 249, 250, 251, 252]\n",
      "[183, 183, 183, 183, 183, 184, 184, 184, 184, 185, 185, 185, 185, 185, 184, 184, 183, 183, 182, 180, 178, 176, 174, 172, 171, 169, 167, 165, 163, 162, 160, 159, 158, 157, 156, 155, 154, 152, 150, 148, 145, 142, 139, 136, 133, 130, 126, 123, 121, 119, 117, 115, 112, 110, 108, 106, 105, 104, 102, 101, 99, 98, 97, 95, 93, 91, 90, 88, 87, 85, 83, 81, 80, 79, 78, 77, 77, 77, 76, 76, 75, 74, 73, 73, 72, 71, 70, 69, 69, 69, 69, 68, 68, 68, 68, 68, 68, 68, 68, 68, 68, 68, 68, 68, 68, 68, 68, 68, 68, 68, 68, 68, 68, 68, 68, 67, 67, 67, 67, 67, 67, 67, 67, 67, 67, 67, 67, 67, 67, 67, 67, 67, 67, 67]\n"
     ]
    }
   ],
   "source": [
    "t_vals = line_points_saved[::2]\n",
    "y_vals = line_points_saved[1::2]\n",
    "print(t_vals)\n",
    "print(y_vals)\n",
    "y_rescaled = y_vals/np.max(y_vals)\n",
    "# print(y_rescaled)\n"
   ]
  },
  {
   "cell_type": "code",
   "execution_count": 26,
   "id": "5224c14b",
   "metadata": {},
   "outputs": [],
   "source": [
    "# initialize recording of parameter choices and true/false\n",
    "\n",
    "\n",
    "# USER: set bounds\n",
    "beta_search_bounds = [0.1,0.25]\n",
    "gamma_search_bounds = [0.01,0.04]"
   ]
  },
  {
   "cell_type": "code",
   "execution_count": 27,
   "id": "c826d8b9",
   "metadata": {},
   "outputs": [],
   "source": [
    "# USER: list how many points for each parameter you'd like to synthesize\n",
    "\n",
    "beta_values_to_synthesize = 10\n",
    "gamma_values_to_synthesize = 10"
   ]
  },
  {
   "cell_type": "code",
   "execution_count": 28,
   "id": "96747c5f",
   "metadata": {},
   "outputs": [],
   "source": [
    "search_points_beta = np.linspace(beta_search_bounds[0], beta_search_bounds[1], beta_values_to_synthesize)\n",
    "search_points_gamma = np.linspace(gamma_search_bounds[0], gamma_search_bounds[1], gamma_values_to_synthesize)"
   ]
  },
  {
   "cell_type": "code",
   "execution_count": 29,
   "id": "129918df",
   "metadata": {},
   "outputs": [],
   "source": [
    "def eval_point(beta_val, gamma_val, plot=False, rtol=1e-4):\n",
    "    # parameters\n",
    "    def beta(t): return np.piecewise(t, [t>=0], [beta_val])\n",
    "    def gamma(t): return np.piecewise(t, [t>=0], [gamma_val])\n",
    "\n",
    "\n",
    "    # USER: set initial conditions\n",
    "    I0, R0 = 0.01, 0\n",
    "    S0 = 1-I0-R0\n",
    "    y0 = S0, I0, R0 # Initial conditions vector\n",
    "    # USER: set simulation parameters\n",
    "    dt = 1\n",
    "    tstart = 0\n",
    "    tend = 260\n",
    "    tvect = np.arange(tstart, tend, dt)\n",
    "    # simulate/solve ODEs\n",
    "    # sim = odeint(sir_model.SIR_model, y0, tvect, args=(beta, gamma), hmin=dt, mxstep=1) # similar resolution to FUNMAN\n",
    "    sim = odeint(sir_model.SIR_model, y0, tvect, args=(beta, gamma), hmin=dt, mxstep=1) # default odeint settings\n",
    "    S, I, R = sim.T\n",
    "\n",
    "    # print(list(zip(range(tstart, tend+1, dt), I)))\n",
    "\n",
    "    # plot results - uncomment next line to plot time series.  not recommended for large numbers of points\n",
    "    if plot:\n",
    "        sir_model.plotSIR(tvect, S, I, R)\n",
    "    # USER: write query condition.\n",
    "    # query_condition =  0.15 <= max(I) <= 0.3  #((0.15 <= I[10]) and I[10] <= 1.0)\n",
    "    # query_condition = (0.45 <= max(I)) and (max(I) <= 0.55) and (45 <= np.argmax(I)*dt) and (np.argmax(I)*dt <= 55)\n",
    "    # query_values = [0.45 <= I[int(t/dt)] <= 0.55 for t in range(tstart, tend+1, dt) if 45 <= t < 55]\n",
    "    query_values = [y_rescaled[i] - 10 <= R[int(t_vals[i]/dt)] <= y_rescaled[i] + 10 for i in range(len(t_vals))]\n",
    "    query_condition = all(query_values) \n",
    "    # print(I[9:11])\n",
    "    query = '1' if query_condition else '0'\n",
    "    param_assignments = {'beta': beta_val, 'gamma': gamma_val, 'assignment': query} # for \"all\", go through every option. for \"any\", only need one good parameter choice.\n",
    "    return param_assignments, sim\n",
    "\n",
    "# set parameters\n",
    "def ps(param_synth_method, rtol=1e-3):\n",
    "    param_choices_true_false = []\n",
    "    for i in range(len(search_points_beta)):\n",
    "        beta_val = search_points_beta[i]\n",
    "        for j in range(len(search_points_gamma)):\n",
    "            gamma_val = search_points_gamma[j]\n",
    "\n",
    "            param_assignments, _ = eval_point(beta_val, gamma_val, rtol=rtol)\n",
    "            param_choices_true_false.append(param_assignments)\n",
    "            if param_synth_method == \"any\" and query == '1':\n",
    "                return param_choices_true_false\n",
    "    return param_choices_true_false"
   ]
  },
  {
   "cell_type": "code",
   "execution_count": 30,
   "id": "c5df90ba",
   "metadata": {},
   "outputs": [
    {
     "name": "stderr",
     "output_type": "stream",
     "text": [
      "/var/folders/fg/63k_244d5jg2d0hp2j_fb21w0000gp/T/ipykernel_84289/164580243.py:18: ODEintWarning: Excess work done on this call (perhaps wrong Dfun type). Run with full_output = 1 to get quantitative information.\n",
      "  sim = odeint(sir_model.SIR_model, y0, tvect, args=(beta, gamma), hmin=dt, mxstep=1) # default odeint settings\n"
     ]
    }
   ],
   "source": [
    "param_choices_true_false = ps(\"all\", rtol=1e-3)\n",
    "#print(param_choices_true_false)\n",
    "\n",
    "id_number = randint(10**5, 10**6 - 1)\n",
    "\n",
    "with open(f'sir_query_auto_2_param_{id_number}.json', 'w', encoding='utf-8') as f:\n",
    "    json.dump(param_choices_true_false, f, ensure_ascii=False, indent=4)"
   ]
  },
  {
   "cell_type": "code",
   "execution_count": 31,
   "id": "12901feb",
   "metadata": {},
   "outputs": [
    {
     "data": {
      "image/png": "[encoded data removed]",
      "text/plain": [
       "<Figure size 432x288 with 1 Axes>"
      ]
     },
     "metadata": {
      "needs_background": "light"
     },
     "output_type": "display_data"
    }
   ],
   "source": [
    "sir_model.plot_two_params(\"gamma\", \"beta\", param_choices_true_false)\n"
   ]
  },
  {
   "cell_type": "code",
   "execution_count": null,
   "id": "95378ef1",
   "metadata": {},
   "outputs": [],
   "source": []
  },
  {
   "cell_type": "code",
   "execution_count": null,
   "id": "2d02089e",
   "metadata": {},
   "outputs": [],
   "source": []
  },
  {
   "cell_type": "code",
   "execution_count": null,
   "id": "b732c635",
   "metadata": {},
   "outputs": [],
   "source": []
  }
 ],
 "metadata": {
  "kernelspec": {
   "display_name": "venv",
   "language": "python",
   "name": "venv"
  },
  "language_info": {
   "codemirror_mode": {
    "name": "ipython",
    "version": 3
   },
   "file_extension": ".py",
   "mimetype": "text/x-python",
   "name": "python",
   "nbconvert_exporter": "python",
   "pygments_lexer": "ipython3",
   "version": "3.9.12"
  }
 },
 "nbformat": 4,
 "nbformat_minor": 5
}
