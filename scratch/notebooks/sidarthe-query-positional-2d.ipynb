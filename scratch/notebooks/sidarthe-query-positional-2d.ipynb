{
 "cells": [
  {
   "cell_type": "code",
   "execution_count": null,
   "metadata": {},
   "outputs": [],
   "source": [
    "%load_ext autoreload\n",
    "%autoreload 2\n",
    "\n",
    "import scipy\n",
    "from scipy.integrate import odeint\n",
    "import numpy as np\n",
    "import matplotlib.pyplot as plt\n",
    "import random\n",
    "import sir_model\n",
    "import json\n",
    "from random import randint"
   ]
  },
  {
   "cell_type": "code",
   "execution_count": null,
   "metadata": {},
   "outputs": [],
   "source": [
    "# initialize recording of parameter choices and true/false\n",
    "\n",
    "\n",
    "# USER: set bounds\n",
    "beta_search_bounds = [0.08,0.1]\n",
    "gamma_search_bounds = [0.02,0.03]"
   ]
  },
  {
   "cell_type": "code",
   "execution_count": null,
   "metadata": {},
   "outputs": [],
   "source": [
    "# USER: list how many points for each parameter you'd like to synthesize\n",
    "\n",
    "beta_values_to_synthesize = 10\n",
    "gamma_values_to_synthesize = 10"
   ]
  },
  {
   "cell_type": "code",
   "execution_count": null,
   "metadata": {},
   "outputs": [],
   "source": [
    "search_points_beta = np.linspace(beta_search_bounds[0], beta_search_bounds[1], beta_values_to_synthesize)\n",
    "search_points_gamma = np.linspace(gamma_search_bounds[0], gamma_search_bounds[1], gamma_values_to_synthesize)"
   ]
  },
  {
   "cell_type": "code",
   "execution_count": null,
   "metadata": {},
   "outputs": [],
   "source": [
    "alpha_val = 0.57\n",
    "# beta_val = 0.011\n",
    "delta_val = 0.011\n",
    "# gamma_val = 0.456\n",
    "\n",
    "epsilon_val = 0.05 #0.171\n",
    "theta_val = 0.371\n",
    "\n",
    "zeta_val = 0.125\n",
    "eta_val = 0.125\n",
    "\n",
    "mu_val = 0.017\n",
    "nu_val = 0.027\n",
    "lamb_val = 0.034\n",
    "rho_val = 0.034\n",
    "\n",
    "kappa_val = 0.017\n",
    "xi_val = 0.017\n",
    "sigma_val = 0.017\n",
    "\n",
    "tau_val = 0.01"
   ]
  },
  {
   "cell_type": "code",
   "execution_count": null,
   "metadata": {},
   "outputs": [],
   "source": [
    "\n",
    "# set parameters\n",
    "def ps(param_synth_method):\n",
    "    param_choices_true_false = []\n",
    "    for i in range(len(search_points_beta)):\n",
    "        beta_val = search_points_beta[i]\n",
    "        for j in range(len(search_points_gamma)):\n",
    "            gamma_val = search_points_gamma[j]\n",
    "\n",
    "            # parameters\n",
    "            # set parameter values\n",
    "            def alpha(t): return np.piecewise(t, [t>=0], [alpha_val])\n",
    "            def beta(t): return np.piecewise(t, [t>=0], [beta_val])\n",
    "            def delta(t): return np.piecewise(t, [t>=0], [delta_val])\n",
    "            def gamma(t): return np.piecewise(t, [t>=0], [gamma_val])\n",
    "\n",
    "            def epsilon(t): return np.piecewise(t, [t>=0], [epsilon_val])\n",
    "            def theta(t): return np.piecewise(t, [t>=0], [theta_val])\n",
    "\n",
    "            def zeta(t): return np.piecewise(t, [t>=0], [zeta_val])\n",
    "            def eta(t): return np.piecewise(t, [t>=0], [eta_val])\n",
    "\n",
    "            def mu(t): return np.piecewise(t, [t>=0], [mu_val])\n",
    "            def nu(t): return np.piecewise(t, [t>=0], [nu_val])\n",
    "            def lamb(t): return np.piecewise(t, [t>=0], [lamb_val])\n",
    "            def rho(t): return np.piecewise(t, [t>=0], [rho_val])\n",
    "\n",
    "            def kappa(t): return np.piecewise(t, [t>=0], [kappa_val])\n",
    "            def xi(t): return np.piecewise(t, [t>=0], [xi_val])\n",
    "            def sigma(t): return np.piecewise(t, [t>=0], [sigma_val])\n",
    "\n",
    "            def tau(t): return np.piecewise(t, [t>=0], [tau_val])\n",
    "\n",
    "\n",
    "            # USER: set initial conditions\n",
    "            I0, D0, A0, R0, T0, H0, E0 = 0.01, 0, 0, 0, 0, 0, 0\n",
    "            S0 = 1-I0-D0-A0-R0-T0-H0-E0\n",
    "            y0 = S0, I0, D0, A0, R0, T0, H0, E0 # Initial conditions vector\n",
    "            # USER: set simulation parameters\n",
    "            dt = 1\n",
    "            tstart = 0\n",
    "            tend = 100\n",
    "            tvect = np.arange(tstart, tend, dt)\n",
    "            # simulate/solve ODEs\n",
    "            sim = odeint(sir_model.SIDARTHE_model, y0, tvect, args=(alpha, beta, gamma, delta, epsilon, mu, zeta, lamb, eta, rho, theta, kappa, nu, xi, sigma, tau))\n",
    "            S, I, D, A, R, T, H, E = sim.T\n",
    "\n",
    "            # plot results - uncomment next line to plot time series.  not recommended for large numbers of points\n",
    "            # sir_model.plotSIR(tvect, S, I, R)\n",
    "            # USER: write query condition.\n",
    "            query_condition =  0.15 <= max(I) <= 0.3  #((0.15 <= I[10]) and I[10] <= 1.0)\n",
    "            query = '1' if query_condition else '0'\n",
    "            param_assignments = {'beta': beta_val, 'gamma': gamma_val, 'assignment': query} # for \"all\", go through every option. for \"any\", only need one good parameter choice.\n",
    "            param_choices_true_false.append(param_assignments)\n",
    "            if param_synth_method == \"any\" and query == '1':\n",
    "                return param_choices_true_false\n",
    "    return param_choices_true_false\n",
    "    \n",
    "param_choices_true_false = ps(\"all\")"
   ]
  },
  {
   "cell_type": "code",
   "execution_count": null,
   "metadata": {},
   "outputs": [],
   "source": [
    "print(param_choices_true_false)\n",
    "\n",
    "id_number = randint(10**5, 10**6 - 1)\n",
    "\n",
    "with open(f'sidarthe_query_auto_2_param_{id_number}.json', 'w', encoding='utf-8') as f:\n",
    "    json.dump(param_choices_true_false, f, ensure_ascii=False, indent=4)"
   ]
  },
  {
   "cell_type": "code",
   "execution_count": null,
   "metadata": {},
   "outputs": [],
   "source": [
    "# Plot \"true/false\" points.  Is there any way of characterizing these regions?\n",
    "\n",
    "sir_model.plot_two_params(\"gamma\", \"beta\", param_choices_true_false)"
   ]
  },
  {
   "cell_type": "code",
   "execution_count": null,
   "metadata": {},
   "outputs": [],
   "source": []
  }
 ],
 "metadata": {
  "kernelspec": {
   "display_name": "funman_venv",
   "language": "python",
   "name": "python3"
  },
  "language_info": {
   "codemirror_mode": {
    "name": "ipython",
    "version": 3
   },
   "file_extension": ".py",
   "mimetype": "text/x-python",
   "name": "python",
   "nbconvert_exporter": "python",
   "pygments_lexer": "ipython3",
   "version": "3.8.10"
  }
 },
 "nbformat": 4,
 "nbformat_minor": 2
}
