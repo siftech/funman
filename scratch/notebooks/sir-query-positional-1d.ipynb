{
 "cells": [
  {
   "cell_type": "markdown",
   "metadata": {},
   "source": [
    "### Note: this notebook is identical to sir-query-positional-2d.ipynb with the exception that gamma_search_bounds is set to have the same lower and upper bound, and gamma_values_to_synthesize is set to 1.\n",
    "\n",
    "### For consistency scenarios, both of the search upper and lower bounds should be set to the same number and values to synthesize of each parameter should be set to 1."
   ]
  },
  {
   "cell_type": "code",
   "execution_count": null,
   "metadata": {},
   "outputs": [],
   "source": [
    "%load_ext autoreload\n",
    "%autoreload 2\n",
    "\n",
    "import scipy\n",
    "from scipy.integrate import odeint\n",
    "import numpy as np\n",
    "import matplotlib.pyplot as plt\n",
    "import random\n",
    "import sir_model\n",
    "import json\n",
    "from random import randint"
   ]
  },
  {
   "cell_type": "code",
   "execution_count": null,
   "metadata": {},
   "outputs": [],
   "source": [
    "# initialize recording of parameter choices and true/false\n",
    "\n",
    "\n",
    "# USER: set bounds\n",
    "beta_search_bounds = [0.08,0.10]\n",
    "gamma_search_bounds = [0.02,0.02]"
   ]
  },
  {
   "cell_type": "code",
   "execution_count": null,
   "metadata": {},
   "outputs": [],
   "source": [
    "# USER: list how many points for each parameter you'd like to synthesize\n",
    "\n",
    "beta_values_to_synthesize = 1\n",
    "gamma_values_to_synthesize = 1\n"
   ]
  },
  {
   "cell_type": "code",
   "execution_count": null,
   "metadata": {},
   "outputs": [],
   "source": [
    "search_points_beta = np.linspace(beta_search_bounds[0], beta_search_bounds[1], beta_values_to_synthesize)\n",
    "search_points_gamma = np.linspace(gamma_search_bounds[0], gamma_search_bounds[1], gamma_values_to_synthesize)"
   ]
  },
  {
   "cell_type": "code",
   "execution_count": null,
   "metadata": {},
   "outputs": [],
   "source": [
    "\n",
    "# set parameters\n",
    "def ps(param_synth_method):\n",
    "    param_choices_true_false = []\n",
    "    for i in range(len(search_points_beta)):\n",
    "        beta_val = search_points_beta[i]\n",
    "        for j in range(len(search_points_gamma)):\n",
    "            gamma_val = search_points_gamma[j]\n",
    "\n",
    "            # parameters\n",
    "            def beta(t): return np.piecewise(t, [t>=0], [beta_val])\n",
    "            def gamma(t): return np.piecewise(t, [t>=0], [gamma_val])\n",
    "\n",
    "\n",
    "            # USER: set initial conditions\n",
    "            I0, R0 = 0.01, 0\n",
    "            S0 = 1-I0-R0\n",
    "            y0 = S0, I0, R0 # Initial conditions vector\n",
    "            # USER: set simulation parameters\n",
    "            dt = 5\n",
    "            tstart = 0\n",
    "            tend = 100\n",
    "            tvect = np.arange(tstart, tend, dt)\n",
    "            # simulate/solve ODEs\n",
    "            sim = odeint(sir_model.SIR_model, y0, tvect, args=(beta, gamma))\n",
    "            S, I, R = sim.T\n",
    "\n",
    "            # plot results - uncomment next line to plot time series.  not recommended for large numbers of points\n",
    "            # sir_model.plotSIR(tvect, S, I, R)\n",
    "            # USER: write query condition.\n",
    "            query_condition =  0.15 <= max(I) <= 0.16  #((0.15 <= I[10]) and I[10] <= 1.0)\n",
    "            query = '1' if query_condition else '0'\n",
    "            param_assignments = {'beta': beta_val, 'gamma': gamma_val, 'assignment': query} # for \"all\", go through every option. for \"any\", only need one good parameter choice.\n",
    "            param_choices_true_false.append(param_assignments)\n",
    "            if param_synth_method == \"any\" and query == '1':\n",
    "                return param_choices_true_false\n",
    "    return param_choices_true_false\n",
    "    \n",
    "param_choices_true_false = ps(\"any\")"
   ]
  },
  {
   "cell_type": "code",
   "execution_count": null,
   "metadata": {},
   "outputs": [],
   "source": [
    "print(param_choices_true_false)\n",
    "\n",
    "id_number = randint(10**5, 10**6 - 1)\n",
    "\n",
    "with open(f'sir_query_auto_1_param_{id_number}.json', 'w', encoding='utf-8') as f:\n",
    "    json.dump(param_choices_true_false, f, ensure_ascii=False, indent=4)"
   ]
  },
  {
   "cell_type": "code",
   "execution_count": null,
   "metadata": {},
   "outputs": [],
   "source": [
    "sir_model.plot_two_params(\"beta\", \"gamma\", param_choices_true_false)\n"
   ]
  },
  {
   "cell_type": "code",
   "execution_count": null,
   "metadata": {},
   "outputs": [],
   "source": []
  },
  {
   "cell_type": "code",
   "execution_count": null,
   "metadata": {},
   "outputs": [],
   "source": []
  }
 ],
 "metadata": {
  "kernelspec": {
   "display_name": "funman_venv",
   "language": "python",
   "name": "python3"
  },
  "language_info": {
   "codemirror_mode": {
    "name": "ipython",
    "version": 3
   },
   "file_extension": ".py",
   "mimetype": "text/x-python",
   "name": "python",
   "nbconvert_exporter": "python",
   "pygments_lexer": "ipython3",
   "version": "3.8.10"
  }
 },
 "nbformat": 4,
 "nbformat_minor": 2
}
