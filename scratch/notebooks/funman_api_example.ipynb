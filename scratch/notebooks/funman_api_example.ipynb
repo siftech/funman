{
 "cells": [
  {
   "attachments": {},
   "cell_type": "markdown",
   "id": "a765cbc2",
   "metadata": {},
   "source": [
    "![FunMAn Overview](./funman-diagram.png)"
   ]
  },
  {
   "attachments": {},
   "cell_type": "markdown",
   "id": "9d3ba6dc",
   "metadata": {},
   "source": [
    "- # FUNMAN Approach:\n",
    "  - Identify regions of parameter space that satisfy operational constraints\n",
    "  - Compile model and operational constraints into first-order logic w/ theory of nonlinear real arithmetic (Satisfiabily Modulo Theory, SMT)\n",
    "  - Solve series of SMT instances (proving unsatisfiability) to label regions.  Two subproblems: 1) identify a region to check, 2) determine how to check\n",
    "- # Phase Goals: \n",
    "  - Improve Scalability\n",
    "  - Expand Models \n",
    "  - Feedback to TA1 and TA3\n",
    "- # Status: \n",
    "  - Scalability: MCTS in dReal solver (exponential speedup in precision) (subproblem 2, above)\n",
    "  - Models: Petrinet, Regnet, Bilayers (multiple formats)\n",
    "  - API: Submit Request, Get results anytime, Halt job\n",
    "  - Integration: building on Terrarium, ready for deployment and TA3 usage\n",
    "- # Ongoing Work: \n",
    "  - Variable Elimination in SMT Encodings (subproblem 2, above)\n",
    "  - Exists Forall encodings (subproblem 1, above)\n",
    "  - API support for new models and operational constraints\n"
   ]
  },
  {
   "attachments": {},
   "cell_type": "markdown",
   "id": "76292192",
   "metadata": {},
   "source": [
    "# Demo Setup"
   ]
  },
  {
   "cell_type": "code",
   "execution_count": null,
   "id": "66470a80",
   "metadata": {},
   "outputs": [],
   "source": [
    "# Common imports\n",
    "import asyncio\n",
    "import nest_asyncio\n",
    "import os\n",
    "import json\n",
    "from pathlib import Path\n",
    "\n",
    "from IPython.display import JSON\n",
    "\n",
    "# Setup URLs\n",
    "API_BASE_PATH = os.path.join(os.getcwd(), \"..\")\n",
    "# Currently assumes a localhost server us running (see funman_server.ipynb)\n",
    "API_SERVER_HOST = \"127.0.0.1\"\n",
    "API_SERVER_PORT = 8190\n",
    "SERVER_URL = f\"http://{API_SERVER_HOST}:{API_SERVER_PORT}\"\n",
    "OPENAPI_URL = f\"{SERVER_URL}/openapi.json\"\n",
    "CLIENT_NAME = \"funman-api-client\"\n",
    "\n",
    "# Setup Paths\n",
    "RESOURCES = Path(\"../resources\").resolve()\n",
    "\n",
    "\n",
    "# Install API client to the working directory\n",
    "# and add the install to the sys path\n",
    "import funman.api.client as client\n",
    "client.make_client(\n",
    "    API_BASE_PATH, openapi_url=OPENAPI_URL, client_name=CLIENT_NAME\n",
    ")\n",
    "nest_asyncio.apply()\n",
    "\n",
    "\n",
    "# Setup API client request\n",
    "from funman_api_client import Client\n",
    "from funman_api_client.api.default import (\n",
    "    post_queries_queries_post,\n",
    "    get_queries_queries_query_id_get,\n",
    ")\n",
    "from funman_api_client.models.body_post_queries_queries_post import BodyPostQueriesQueriesPost\n",
    "from funman_api_client.models import (\n",
    "    BilayerModel,\n",
    "    FUNMANConfig,\n",
    "    LabeledParameter,\n",
    "    QueryLE,\n",
    "    FunmanWorkRequest,\n",
    "    FunmanWorkUnit,\n",
    "    FunmanResults,\n",
    "    QueryTrue,\n",
    "    GeneratedPetriNetModel\n",
    "    \n",
    ")\n",
    "\n",
    "# Create a funman client\n",
    "funman_client = Client(SERVER_URL, timeout=None)"
   ]
  },
  {
   "cell_type": "code",
   "execution_count": null,
   "id": "d2afc3d4",
   "metadata": {},
   "outputs": [],
   "source": [
    "job=\"6bef43a3-27cf-41b0-a132-dba680800657\"\n",
    "\n",
    "# Make a GET request to the API endpoint\n",
    "response = asyncio.run(get_queries_queries_query_id_get.asyncio_detailed(\n",
    "    job,\n",
    "    client=funman_client\n",
    "))\n",
    "# The response returns the latest funman results for the query\n",
    "results = FunmanResults.from_dict(\n",
    "    src_dict=json.loads(response.content.decode())\n",
    ")\n",
    "# pretty print the parameter_space\n",
    "print(json.dumps(results.parameter_space.to_dict(), indent=2))\n",
    "\n",
    "# Plot the ParameterSpace\n",
    "from funman_demo.parameter_space_plotter import ParameterSpacePlotter\n",
    "ParameterSpacePlotter(results.parameter_space).plot(show=True)"
   ]
  },
  {
   "attachments": {},
   "cell_type": "markdown",
   "id": "1e8f73fc",
   "metadata": {},
   "source": [
    "---\n",
    "---\n",
    "# Example 1: AMR Petrinet\n",
    "## Question: Can we verify the parameter bounds given in the AMR prevent > 30% maximum infections?\n",
    "---\n",
    "## Example 1: Step 1: Load Model and Request"
   ]
  },
  {
   "cell_type": "code",
   "execution_count": null,
   "id": "a4286455",
   "metadata": {},
   "outputs": [],
   "source": [
    "EXAMPLE_DIR = RESOURCES / \"amr\" / \"petrinet\" / \"amr-examples\"\n",
    "MODEL_PATH = EXAMPLE_DIR / \"sir.json\"\n",
    "REQUEST_PATH = EXAMPLE_DIR / \"sir_request1.json\"\n",
    "\n",
    "# Read in the model file\n",
    "model = json.loads(MODEL_PATH.read_bytes())\n",
    "# pretty print\n",
    "# print(json.dumps(model, indent=2))\n",
    "\n",
    "# Read in the funman request file\n",
    "request = json.loads(REQUEST_PATH.read_bytes())\n",
    "# pretty print\n",
    "print(json.dumps(request, indent=2))"
   ]
  },
  {
   "attachments": {},
   "cell_type": "markdown",
   "id": "76b17bff",
   "metadata": {},
   "source": [
    "## Example 1: Step 2: Submit job"
   ]
  },
  {
   "cell_type": "code",
   "execution_count": null,
   "id": "4b6c49bc",
   "metadata": {},
   "outputs": [],
   "source": [
    "# Make a POST request to the API endpoint\n",
    "response = asyncio.run(\n",
    "    post_queries_queries_post.asyncio_detailed(\n",
    "        client=funman_client,\n",
    "        json_body=BodyPostQueriesQueriesPost.from_dict({\n",
    "            \"model\": model,\n",
    "            \"request\": request\n",
    "        }),\n",
    "    )\n",
    ")\n",
    "\n",
    "# The response returns a work unit\n",
    "work_unit = FunmanWorkUnit.from_dict(\n",
    "    src_dict=json.loads(response.content.decode())\n",
    ")\n",
    "# Where the id can be used to pull ongoing results\n",
    "work_unit.id"
   ]
  },
  {
   "attachments": {},
   "cell_type": "markdown",
   "id": "736ec7db",
   "metadata": {},
   "source": [
    "## Example 1: Step 3: Request results"
   ]
  },
  {
   "cell_type": "code",
   "execution_count": null,
   "id": "d9fa4c47",
   "metadata": {},
   "outputs": [],
   "source": [
    "# Make a GET request to the API endpoint\n",
    "response = asyncio.run(get_queries_queries_query_id_get.asyncio_detailed(\n",
    "    work_unit.id,\n",
    "    client=funman_client\n",
    "))\n",
    "# The response returns the latest funman results for the query\n",
    "results = FunmanResults.from_dict(\n",
    "    src_dict=json.loads(response.content.decode())\n",
    ")\n",
    "# pretty print the parameter_space\n",
    "print(json.dumps(results.parameter_space.to_dict(), indent=2))"
   ]
  },
  {
   "attachments": {},
   "cell_type": "markdown",
   "id": "a4cdad47",
   "metadata": {},
   "source": [
    "## Example 1: Step 4: Plot Results"
   ]
  },
  {
   "cell_type": "code",
   "execution_count": null,
   "id": "696661a0",
   "metadata": {},
   "outputs": [],
   "source": [
    "# Plot the ParameterSpace\n",
    "from funman_demo.parameter_space_plotter import ParameterSpacePlotter\n",
    "ParameterSpacePlotter(results.parameter_space).plot(show=True)"
   ]
  },
  {
   "cell_type": "markdown",
   "id": "7fec8079",
   "metadata": {},
   "source": [
    "# Example 1b: Optional: Halt Processing Job"
   ]
  },
  {
   "cell_type": "code",
   "execution_count": null,
   "id": "b2f11e6a",
   "metadata": {},
   "outputs": [],
   "source": [
    "# Halt the current run\n",
    "from funman_api_client.api.default import (\n",
    "    halt_queries_query_id_halt_get\n",
    ")\n",
    "\n",
    "response = asyncio.run(\n",
    "    halt_queries_query_id_halt_get.asyncio_detailed(\n",
    "        client=funman_client,\n",
    "        query_id=work_unit.id\n",
    "    )\n",
    ")\n",
    "\n",
    "# The response returns a status\n",
    "response"
   ]
  },
  {
   "attachments": {},
   "cell_type": "markdown",
   "id": "eb2b960d",
   "metadata": {},
   "source": [
    "---\n",
    "---\n",
    "# Example 1: AMR Petrinet\n",
    "## Question: Can we verify the parameter bounds given in the AMR prevent > 30% maximum infections?\n",
    "---\n",
    "## Example 1a: Step 1: Load Model and Request"
   ]
  },
  {
   "cell_type": "code",
   "execution_count": null,
   "id": "9a299787",
   "metadata": {},
   "outputs": [],
   "source": [
    "EXAMPLE_DIR = RESOURCES / \"amr\" / \"petrinet\" / \"amr-examples\"\n",
    "MODEL_PATH = EXAMPLE_DIR / \"sir.json\"\n",
    "REQUEST_PATH = EXAMPLE_DIR / \"sir_request1a.json\"\n",
    "\n",
    "# Read in the model file\n",
    "model = json.loads(MODEL_PATH.read_bytes())\n",
    "# pretty print\n",
    "# print(json.dumps(model, indent=2))\n",
    "\n",
    "# Read in the funman request file\n",
    "request = json.loads(REQUEST_PATH.read_bytes())\n",
    "# pretty print\n",
    "print(json.dumps(request, indent=2))"
   ]
  },
  {
   "attachments": {},
   "cell_type": "markdown",
   "id": "1de7759f",
   "metadata": {},
   "source": [
    "## Example 1a: Step 2: Submit job"
   ]
  },
  {
   "cell_type": "code",
   "execution_count": null,
   "id": "b3f4d4d5",
   "metadata": {},
   "outputs": [],
   "source": [
    "# Make a POST request to the API endpoint\n",
    "response = asyncio.run(\n",
    "    post_queries_queries_post.asyncio_detailed(\n",
    "        client=funman_client,\n",
    "        json_body=BodyPostQueriesQueriesPost.from_dict({\n",
    "            \"model\": model,\n",
    "            \"request\": request\n",
    "        }),\n",
    "    )\n",
    ")\n",
    "\n",
    "# The response returns a work unit\n",
    "work_unit = FunmanWorkUnit.from_dict(\n",
    "    src_dict=json.loads(response.content.decode())\n",
    ")\n",
    "# Where the id can be used to pull ongoing results\n",
    "work_unit.id"
   ]
  },
  {
   "attachments": {},
   "cell_type": "markdown",
   "id": "bed0d43a",
   "metadata": {},
   "source": [
    "## Example 1a: Step 3: Request results"
   ]
  },
  {
   "cell_type": "code",
   "execution_count": null,
   "id": "4d4136de",
   "metadata": {
    "scrolled": true
   },
   "outputs": [],
   "source": [
    "# Make a GET request to the API endpoint\n",
    "response = asyncio.run(get_queries_queries_query_id_get.asyncio_detailed(\n",
    "    work_unit.id,\n",
    "    client=funman_client\n",
    "))\n",
    "# The response returns the latest funman results for the query\n",
    "results = FunmanResults.from_dict(\n",
    "    src_dict=json.loads(response.content.decode())\n",
    ")\n",
    "# pretty print the parameter_space\n",
    "print(json.dumps(results.parameter_space.to_dict(), indent=2))"
   ]
  },
  {
   "attachments": {},
   "cell_type": "markdown",
   "id": "d82e0513",
   "metadata": {},
   "source": [
    "## Example 1a: Step 4: Plot Results"
   ]
  },
  {
   "cell_type": "code",
   "execution_count": null,
   "id": "3c6b47b9",
   "metadata": {},
   "outputs": [],
   "source": [
    "# Plot the ParameterSpace\n",
    "from funman_demo.parameter_space_plotter import ParameterSpacePlotter\n",
    "ParameterSpacePlotter(results.parameter_space).plot(show=True)"
   ]
  },
  {
   "attachments": {},
   "cell_type": "markdown",
   "id": "9ed2b45c",
   "metadata": {},
   "source": [
    "# Example 1a: Optional: Halt Processing Job"
   ]
  },
  {
   "cell_type": "code",
   "execution_count": null,
   "id": "6b52dcbf",
   "metadata": {},
   "outputs": [],
   "source": [
    "# Halt the current run\n",
    "from funman_api_client.api.default import (\n",
    "    halt_queries_query_id_halt_get\n",
    ")\n",
    "\n",
    "response = asyncio.run(\n",
    "    halt_queries_query_id_halt_get.asyncio_detailed(\n",
    "        client=funman_client,\n",
    "        query_id=work_unit.id\n",
    "    )\n",
    ")\n",
    "\n",
    "# The response returns a status\n",
    "response"
   ]
  },
  {
   "attachments": {},
   "cell_type": "markdown",
   "id": "357c4066",
   "metadata": {},
   "source": [
    "---\n",
    "---\n",
    "# Example 1b: AMR Petrinet\n",
    "## Question: Can we push beta up and gamma down?\n",
    "---\n",
    "## Example 1b: Step 1: Load Model and Request"
   ]
  },
  {
   "cell_type": "code",
   "execution_count": null,
   "id": "d1fb5e71",
   "metadata": {},
   "outputs": [],
   "source": [
    "EXAMPLE_DIR = RESOURCES / \"amr\" / \"petrinet\" / \"amr-examples\"\n",
    "MODEL_PATH = EXAMPLE_DIR / \"sir.json\"\n",
    "REQUEST_PATH = EXAMPLE_DIR / \"sir_request1b.json\"\n",
    "\n",
    "# Read in the model file\n",
    "model = json.loads(MODEL_PATH.read_bytes())\n",
    "# pretty print\n",
    "# print(json.dumps(model, indent=2))\n",
    "\n",
    "# Read in the funman request file\n",
    "request = json.loads(REQUEST_PATH.read_bytes())\n",
    "# pretty print\n",
    "print(json.dumps(request, indent=2))"
   ]
  },
  {
   "attachments": {},
   "cell_type": "markdown",
   "id": "a0e79bb1",
   "metadata": {},
   "source": [
    "## Example 1b: Step 2: Submit job"
   ]
  },
  {
   "cell_type": "code",
   "execution_count": null,
   "id": "36d4b2b6",
   "metadata": {},
   "outputs": [],
   "source": [
    "# Make a POST request to the API endpoint\n",
    "response = asyncio.run(\n",
    "    post_queries_queries_post.asyncio_detailed(\n",
    "        client=funman_client,\n",
    "        json_body=BodyPostQueriesQueriesPost.from_dict({\n",
    "            \"model\": model,\n",
    "            \"request\": request\n",
    "        }),\n",
    "    )\n",
    ")\n",
    "\n",
    "# The response returns a work unit\n",
    "work_unit = FunmanWorkUnit.from_dict(\n",
    "    src_dict=json.loads(response.content.decode())\n",
    ")\n",
    "# Where the id can be used to pull ongoing results\n",
    "work_unit.id"
   ]
  },
  {
   "attachments": {},
   "cell_type": "markdown",
   "id": "10461cc5",
   "metadata": {},
   "source": [
    "## Example 1b: Step 3: Request results"
   ]
  },
  {
   "cell_type": "code",
   "execution_count": null,
   "id": "cb2166ed",
   "metadata": {},
   "outputs": [],
   "source": [
    "# Make a GET request to the API endpoint\n",
    "response = asyncio.run(get_queries_queries_query_id_get.asyncio_detailed(\n",
    "    work_unit.id,\n",
    "    client=funman_client\n",
    "))\n",
    "# The response returns the latest funman results for the query\n",
    "results = FunmanResults.from_dict(\n",
    "    src_dict=json.loads(response.content.decode())\n",
    ")\n",
    "# pretty print the parameter_space\n",
    "print(json.dumps(results.parameter_space.to_dict(), indent=2))"
   ]
  },
  {
   "attachments": {},
   "cell_type": "markdown",
   "id": "3334304d",
   "metadata": {},
   "source": [
    "## Example 1b: Step 4: Plot Results"
   ]
  },
  {
   "cell_type": "code",
   "execution_count": null,
   "id": "f633e221",
   "metadata": {},
   "outputs": [],
   "source": [
    "# Plot the ParameterSpace\n",
    "from funman_demo.parameter_space_plotter import ParameterSpacePlotter\n",
    "ParameterSpacePlotter(results.parameter_space).plot(show=True)"
   ]
  },
  {
   "attachments": {},
   "cell_type": "markdown",
   "id": "e3af99fc",
   "metadata": {},
   "source": [
    "# Example 1b: Optional: Halt Processing Job"
   ]
  },
  {
   "cell_type": "code",
   "execution_count": null,
   "id": "63cc2c9a",
   "metadata": {},
   "outputs": [],
   "source": [
    "# Halt the current run\n",
    "from funman_api_client.api.default import (\n",
    "    halt_queries_query_id_halt_get\n",
    ")\n",
    "\n",
    "response = asyncio.run(\n",
    "    halt_queries_query_id_halt_get.asyncio_detailed(\n",
    "        client=funman_client,\n",
    "        query_id=work_unit.id\n",
    "    )\n",
    ")\n",
    "\n",
    "# The response returns a status\n",
    "response"
   ]
  },
  {
   "attachments": {},
   "cell_type": "markdown",
   "id": "532b8e52",
   "metadata": {},
   "source": [
    "---\n",
    "---\n",
    "# Example 1c: Skema AMR Petrinet\n",
    "## Question: Can we identify relevant parameter values when no ranges are extracted?\n",
    "---\n",
    "## Example 1c: Step 1: Load Model and Request"
   ]
  },
  {
   "cell_type": "code",
   "execution_count": null,
   "id": "26c4cb0b",
   "metadata": {},
   "outputs": [],
   "source": [
    "EXAMPLE_DIR = RESOURCES / \"amr\" / \"petrinet\" / \"skema\"\n",
    "MODEL_PATH = EXAMPLE_DIR / \"linked_petrinet.json\"\n",
    "REQUEST_PATH = EXAMPLE_DIR / \"sir_request_skema1c.json\"\n",
    "\n",
    "# Read in the model file\n",
    "model = json.loads(MODEL_PATH.read_bytes())\n",
    "# pretty print\n",
    "# print(json.dumps(model, indent=2))\n",
    "\n",
    "# Read in the funman request file\n",
    "request = json.loads(REQUEST_PATH.read_bytes())\n",
    "# pretty print\n",
    "print(json.dumps(request, indent=2))"
   ]
  },
  {
   "attachments": {},
   "cell_type": "markdown",
   "id": "40e89335",
   "metadata": {},
   "source": [
    "## Example 1c: Step 2: Submit job"
   ]
  },
  {
   "cell_type": "code",
   "execution_count": null,
   "id": "d2e9c275",
   "metadata": {},
   "outputs": [],
   "source": [
    "# Make a POST request to the API endpoint\n",
    "response = asyncio.run(\n",
    "    post_queries_queries_post.asyncio_detailed(\n",
    "        client=funman_client,\n",
    "        json_body=BodyPostQueriesQueriesPost.from_dict({\n",
    "            \"model\": model,\n",
    "            \"request\": request\n",
    "        }),\n",
    "    )\n",
    ")\n",
    "\n",
    "# The response returns a work unit\n",
    "work_unit = FunmanWorkUnit.from_dict(\n",
    "    src_dict=json.loads(response.content.decode())\n",
    ")\n",
    "# Where the id can be used to pull ongoing results\n",
    "work_unit.id"
   ]
  },
  {
   "attachments": {},
   "cell_type": "markdown",
   "id": "9b0f1502",
   "metadata": {},
   "source": [
    "## Example 1c: Step 3: Request results"
   ]
  },
  {
   "cell_type": "code",
   "execution_count": null,
   "id": "4ba3e108",
   "metadata": {},
   "outputs": [],
   "source": [
    "# Make a GET request to the API endpoint\n",
    "response = asyncio.run(get_queries_queries_query_id_get.asyncio_detailed(\n",
    "    work_unit.id,\n",
    "    client=funman_client\n",
    "))\n",
    "# The response returns the latest funman results for the query\n",
    "results = FunmanResults.from_dict(\n",
    "    src_dict=json.loads(response.content.decode())\n",
    ")\n",
    "# pretty print the parameter_space\n",
    "print(json.dumps(results.parameter_space.to_dict(), indent=2))"
   ]
  },
  {
   "attachments": {},
   "cell_type": "markdown",
   "id": "63db9039",
   "metadata": {},
   "source": [
    "## Example 1c: Step 4: Plot Results"
   ]
  },
  {
   "cell_type": "code",
   "execution_count": null,
   "id": "42249f8b",
   "metadata": {},
   "outputs": [],
   "source": [
    "# Plot the ParameterSpace\n",
    "from funman_demo.parameter_space_plotter import ParameterSpacePlotter\n",
    "ParameterSpacePlotter(results.parameter_space, plot_points=True).plot(show=True)"
   ]
  },
  {
   "attachments": {},
   "cell_type": "markdown",
   "id": "f769999a",
   "metadata": {},
   "source": [
    "# Example 1c: Optional: Halt Processing Job"
   ]
  },
  {
   "cell_type": "code",
   "execution_count": null,
   "id": "0304f65f",
   "metadata": {},
   "outputs": [],
   "source": [
    "# Halt the current run\n",
    "from funman_api_client.api.default import (\n",
    "    halt_queries_query_id_halt_get\n",
    ")\n",
    "\n",
    "response = asyncio.run(\n",
    "    halt_queries_query_id_halt_get.asyncio_detailed(\n",
    "        client=funman_client,\n",
    "        query_id=work_unit.id\n",
    "    )\n",
    ")\n",
    "\n",
    "# The response returns a status\n",
    "response"
   ]
  },
  {
   "attachments": {},
   "cell_type": "markdown",
   "id": "be007b93",
   "metadata": {},
   "source": [
    "---\n",
    "---\n",
    "# Example 1d: Skema AMR Petrinet\n",
    "## Question: Can we identify all parameter values when no ranges are extracted?\n",
    "---\n",
    "## Example 1d: Step 1: Load Model and Request"
   ]
  },
  {
   "cell_type": "code",
   "execution_count": null,
   "id": "9b8909af",
   "metadata": {},
   "outputs": [],
   "source": [
    "EXAMPLE_DIR = RESOURCES / \"amr\" / \"petrinet\" / \"skema\"\n",
    "MODEL_PATH = EXAMPLE_DIR / \"linked_petrinet.json\"\n",
    "REQUEST_PATH = EXAMPLE_DIR / \"sir_request_skema1d.json\"\n",
    "\n",
    "# Read in the model file\n",
    "model = json.loads(MODEL_PATH.read_bytes())\n",
    "# pretty print\n",
    "# print(json.dumps(model, indent=2))\n",
    "\n",
    "# Read in the funman request file\n",
    "request = json.loads(REQUEST_PATH.read_bytes())\n",
    "# pretty print\n",
    "print(json.dumps(request, indent=2))"
   ]
  },
  {
   "attachments": {},
   "cell_type": "markdown",
   "id": "58eb5e8f",
   "metadata": {},
   "source": [
    "## Example 1d: Step 2: Submit job"
   ]
  },
  {
   "cell_type": "code",
   "execution_count": null,
   "id": "5b5e9616",
   "metadata": {},
   "outputs": [],
   "source": [
    "# Make a POST request to the API endpoint\n",
    "response = asyncio.run(\n",
    "    post_queries_queries_post.asyncio_detailed(\n",
    "        client=funman_client,\n",
    "        json_body=BodyPostQueriesQueriesPost.from_dict({\n",
    "            \"model\": model,\n",
    "            \"request\": request\n",
    "        }),\n",
    "    )\n",
    ")\n",
    "\n",
    "# The response returns a work unit\n",
    "work_unit = FunmanWorkUnit.from_dict(\n",
    "    src_dict=json.loads(response.content.decode())\n",
    ")\n",
    "# Where the id can be used to pull ongoing results\n",
    "work_unit.id"
   ]
  },
  {
   "attachments": {},
   "cell_type": "markdown",
   "id": "8b0dfd90",
   "metadata": {},
   "source": [
    "## Example 1d: Step 3: Request results"
   ]
  },
  {
   "cell_type": "code",
   "execution_count": null,
   "id": "f5a69f01",
   "metadata": {},
   "outputs": [],
   "source": [
    "# Make a GET request to the API endpoint\n",
    "response = asyncio.run(get_queries_queries_query_id_get.asyncio_detailed(\n",
    "    work_unit.id,\n",
    "    client=funman_client\n",
    "))\n",
    "# The response returns the latest funman results for the query\n",
    "results = FunmanResults.from_dict(\n",
    "    src_dict=json.loads(response.content.decode())\n",
    ")\n",
    "# pretty print the parameter_space\n",
    "print(json.dumps(results.parameter_space.to_dict(), indent=2))"
   ]
  },
  {
   "attachments": {},
   "cell_type": "markdown",
   "id": "b0d5b89c",
   "metadata": {},
   "source": [
    "## Example 1d: Step 4: Plot Results"
   ]
  },
  {
   "cell_type": "code",
   "execution_count": null,
   "id": "16a82182",
   "metadata": {},
   "outputs": [],
   "source": [
    "# Plot the ParameterSpace\n",
    "from funman_demo.parameter_space_plotter import ParameterSpacePlotter\n",
    "ParameterSpacePlotter(results.parameter_space, plot_points=True).plot(show=True)"
   ]
  },
  {
   "attachments": {},
   "cell_type": "markdown",
   "id": "5ed076c6",
   "metadata": {},
   "source": [
    "# Example 1d: Optional: Halt Processing Job"
   ]
  },
  {
   "cell_type": "code",
   "execution_count": null,
   "id": "37f07d62",
   "metadata": {},
   "outputs": [],
   "source": [
    "# Halt the current run\n",
    "from funman_api_client.api.default import (\n",
    "    halt_queries_query_id_halt_get\n",
    ")\n",
    "\n",
    "response = asyncio.run(\n",
    "    halt_queries_query_id_halt_get.asyncio_detailed(\n",
    "        client=funman_client,\n",
    "        query_id=work_unit.id\n",
    "    )\n",
    ")\n",
    "\n",
    "# The response returns a status\n",
    "response"
   ]
  },
  {
   "attachments": {},
   "cell_type": "markdown",
   "id": "cd0a41fd",
   "metadata": {},
   "source": [
    "---\n",
    "---\n",
    "# Example 2: AMR Regnet\n",
    "---\n",
    "## Example 2: Step 1: Load Model and Request"
   ]
  },
  {
   "cell_type": "code",
   "execution_count": null,
   "id": "988494a2",
   "metadata": {},
   "outputs": [],
   "source": [
    "EXAMPLE_DIR = RESOURCES / \"amr\" / \"regnet\" / \"amr-examples\"\n",
    "MODEL_PATH = EXAMPLE_DIR / \"lotka_volterra.json\"\n",
    "REQUEST_PATH = EXAMPLE_DIR / \"lotka_volterra_request1.json\"\n",
    "\n",
    "# Read in the model file\n",
    "model = json.loads(MODEL_PATH.read_bytes())\n",
    "# pretty print\n",
    "# print(json.dumps(model, indent=2))\n",
    "\n",
    "# Read in the funman request file\n",
    "request = json.loads(REQUEST_PATH.read_bytes())\n",
    "# pretty print\n",
    "print(json.dumps(request, indent=2))"
   ]
  },
  {
   "attachments": {},
   "cell_type": "markdown",
   "id": "f3ad5a3d",
   "metadata": {},
   "source": [
    "## Example 2: Step 2: Submit job"
   ]
  },
  {
   "cell_type": "code",
   "execution_count": null,
   "id": "03784938",
   "metadata": {},
   "outputs": [],
   "source": [
    "# Make a POST request to the API endpoint\n",
    "response = asyncio.run(\n",
    "    post_queries_queries_post.asyncio_detailed(\n",
    "        client=funman_client,\n",
    "        json_body=BodyPostQueriesQueriesPost.from_dict({\n",
    "            \"model\": model,\n",
    "            \"request\": request\n",
    "        }),\n",
    "    )\n",
    ")\n",
    "\n",
    "# The response returns a work unit\n",
    "work_unit = FunmanWorkUnit.from_dict(\n",
    "    src_dict=json.loads(response.content.decode())\n",
    ")\n",
    "# Where the id can be used to pull ongoing results\n",
    "work_unit.id"
   ]
  },
  {
   "attachments": {},
   "cell_type": "markdown",
   "id": "e184a55e",
   "metadata": {},
   "source": [
    "## Example 2: Step 3: Request results"
   ]
  },
  {
   "cell_type": "code",
   "execution_count": null,
   "id": "df7c09bb",
   "metadata": {},
   "outputs": [],
   "source": [
    "# Make a GET request to the API endpoint\n",
    "response = asyncio.run(get_queries_queries_query_id_get.asyncio_detailed(\n",
    "    work_unit.id,\n",
    "    client=funman_client\n",
    "))\n",
    "# The response returns the latest funman results for the query\n",
    "results = FunmanResults.from_dict(\n",
    "    src_dict=json.loads(response.content.decode())\n",
    ")\n",
    "# pretty print the parameter_space\n",
    "print(json.dumps(results.parameter_space.to_dict(), indent=2))"
   ]
  },
  {
   "attachments": {},
   "cell_type": "markdown",
   "id": "6e55cd8b",
   "metadata": {},
   "source": [
    "## Example 2: Step 4: Plot Results"
   ]
  },
  {
   "cell_type": "code",
   "execution_count": null,
   "id": "39002688",
   "metadata": {},
   "outputs": [],
   "source": [
    "# Plot the ParameterSpace\n",
    "from funman_demo.parameter_space_plotter import ParameterSpacePlotter\n",
    "ParameterSpacePlotter(results.parameter_space).plot(show=True)"
   ]
  },
  {
   "attachments": {},
   "cell_type": "markdown",
   "id": "20e4d5b9",
   "metadata": {},
   "source": [
    "# Example 2: Optional: Halt Processing Job"
   ]
  },
  {
   "cell_type": "code",
   "execution_count": null,
   "id": "4536b07f",
   "metadata": {},
   "outputs": [],
   "source": [
    "# Halt the current run\n",
    "from funman_api_client.api.default import (\n",
    "    halt_queries_query_id_halt_get\n",
    ")\n",
    "\n",
    "response = asyncio.run(\n",
    "    halt_queries_query_id_halt_get.asyncio_detailed(\n",
    "        client=funman_client,\n",
    "        query_id=work_unit.id\n",
    "    )\n",
    ")\n",
    "\n",
    "# The response returns a status\n",
    "response"
   ]
  }
 ],
 "metadata": {
  "kernelspec": {
   "display_name": "Python 3 (ipykernel)",
   "language": "python",
   "name": "python3"
  },
  "language_info": {
   "codemirror_mode": {
    "name": "ipython",
    "version": 3
   },
   "file_extension": ".py",
   "mimetype": "text/x-python",
   "name": "python",
   "nbconvert_exporter": "python",
   "pygments_lexer": "ipython3",
   "version": "3.8.10"
  }
 },
 "nbformat": 4,
 "nbformat_minor": 5
}
