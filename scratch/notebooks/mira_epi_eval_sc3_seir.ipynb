{
 "cells": [
  {
   "cell_type": "markdown",
   "id": "14d9fa23-f229-4499-889f-8b84bf790223",
   "metadata": {},
   "source": [
    "# Scenario 3: Causal Reasoning with Interventions"
   ]
  },
  {
   "cell_type": "markdown",
   "id": "80f64161-69df-41c6-a014-3dcd1afbdcb3",
   "metadata": {},
   "source": [
    "### Load MIRA dependencies"
   ]
  },
  {
   "cell_type": "code",
   "execution_count": 1,
   "id": "efd146e7-0742-4e39-a374-39fe931df029",
   "metadata": {},
   "outputs": [],
   "source": [
    "import os\n",
    "import json\n",
    "import sympy\n",
    "\n",
    "from mira.metamodel import *\n",
    "from mira.examples.concepts import susceptible, exposed, infected, recovered\n",
    "from mira.modeling import Model\n",
    "from mira.modeling.amr.petrinet import AMRPetriNetModel, template_model_to_petrinet_json\n",
    "from mira.sources.amr.petrinet import template_model_from_amr_json\n",
    "from mira.metamodel.io import model_to_json_file, model_from_json_file\n",
    "\n",
    "from mira.modeling.ode import OdeModel, simulate_ode_model\n",
    "import numpy\n",
    "import matplotlib.pyplot as plt"
   ]
  },
  {
   "cell_type": "markdown",
   "id": "82328f7c-76da-4eb1-8241-fe0e23b58683",
   "metadata": {},
   "source": [
    "## Build SEIR model"
   ]
  },
  {
   "cell_type": "markdown",
   "id": "4f42f426-67a8-4ff8-87ae-22dc95e2bbbe",
   "metadata": {},
   "source": [
    "### Define units"
   ]
  },
  {
   "cell_type": "code",
   "execution_count": 2,
   "id": "f8d81322-226a-4676-a0b8-923e7220e10d",
   "metadata": {},
   "outputs": [],
   "source": [
    "person_units = lambda: Unit(expression=sympy.Symbol('person'))\n",
    "day_units = lambda: Unit(expression=sympy.Symbol('day'))\n",
    "per_day_units = lambda: Unit(expression=1/sympy.Symbol('day'))\n",
    "dimensionless_units = lambda: Unit(expression=sympy.Integer('1'))\n",
    "per_day_per_person_units = lambda: Unit(expression=1/(sympy.Symbol('day')*sympy.Symbol('person')))"
   ]
  },
  {
   "cell_type": "markdown",
   "id": "6900e964-edb2-4427-bab1-d2c9dcdabc82",
   "metadata": {},
   "source": [
    "# Define and stratify model concepts"
   ]
  },
  {
   "cell_type": "code",
   "execution_count": 3,
   "id": "5e2c1d9f-51a9-46a4-aa06-5aa862b8b081",
   "metadata": {},
   "outputs": [],
   "source": [
    "_susceptible = Concept(name='S', units=person_units(), identifiers={'ido': '0000514'})\n",
    "_exposed = Concept(name='E', units=person_units(), identifiers={'apollosv': '00000154'})\n",
    "_infected = Concept(name='I', units=person_units(), identifiers={'ido': '0000511'})\n",
    "_recovered = Concept(name='R', units=person_units(), identifiers={'ido': '0000592'})\n",
    "\n",
    "c = {\n",
    "    'S_y': _susceptible.with_context(status=\"young\"),\n",
    "    'S_m': _susceptible.with_context(status=\"middle\"),\n",
    "    'S_o': _susceptible.with_context(status=\"old\"),\n",
    "    'E_y': _exposed.with_context(status=\"young\"),\n",
    "    'E_m': _exposed.with_context(status=\"middle\"),\n",
    "    'E_o': _exposed.with_context(status=\"old\"),\n",
    "    'I_y': _infected.with_context(status=\"young\"),\n",
    "    'I_m': _infected.with_context(status=\"middle\"),\n",
    "    'I_o': _infected.with_context(status=\"old\"),\n",
    "    'R_y': _recovered.with_context(status=\"young\"),\n",
    "    'R_m': _recovered.with_context(status=\"middle\"),\n",
    "    'R_o': _recovered.with_context(status=\"old\"),\n",
    "}\n",
    "\n",
    "for concept in c:\n",
    "    c[concept].name = concept"
   ]
  },
  {
   "cell_type": "markdown",
   "id": "4792ddd4-f7bd-43e5-8cc7-a729573b39eb",
   "metadata": {},
   "source": [
    "### Define parameters with uncertainty"
   ]
  },
  {
   "cell_type": "code",
   "execution_count": 4,
   "id": "b4774d31-1ad4-4027-a82b-6bee06907e03",
   "metadata": {},
   "outputs": [],
   "source": [
    "# To add a small distribution around parameters (for Terarium)\n",
    "def unif_distribution_create(value: float):\n",
    "    return Distribution(\n",
    "        type=\"StandardUniform1\",\n",
    "        parameters={\"minimum\": value, \"maximum\": value + max(0.01*value,0.1)},\n",
    "    )"
   ]
  },
  {
   "cell_type": "code",
   "execution_count": 5,
   "id": "a902e806-0dad-4bf6-a264-0172324257b0",
   "metadata": {},
   "outputs": [],
   "source": [
    "parameters = {\n",
    "    'beta': Parameter(name='beta', value=sympy.Float(0.2), units=per_day_units(),\n",
    "                      distribution=Distribution(type='StandardUniform1',\n",
    "                                                parameters={'minimum': 0.05,\n",
    "                                                            'maximum': 0.8})),  # Infection rate\n",
    "    'N': Parameter(name='N', value=sympy.Float(300.0), units=person_units()),  # Total population\n",
    "    'mew': Parameter(name='mew', value=sympy.Float(0.0), units=per_day_units()),  # Mask efficacy\n",
    "    'mcw': Parameter(name='mcw', value=sympy.Float(0.0), units=per_day_units()),  # Mask compliance\n",
    "    'r_EI': Parameter(name='r_EI', value=sympy.Float(0.08), units=per_day_units()),  # Rate of progressing E -> I\n",
    "    'r_IR': Parameter(name='r_IR', value=sympy.Float(0.06), units=per_day_units()),  # Rate of progressing I -> R\n",
    "    'Myy': Parameter(name='Myy', value=sympy.Float(38.62), units=per_day_units()),  # Contact rate young -> young\n",
    "    'Mym': Parameter(name='Mym', value=sympy.Float(20.56), units=per_day_units()),  # Contact rate young -> middle\n",
    "    'Myo': Parameter(name='Myo', value=sympy.Float(6.12), units=per_day_units()),  # Contact rate young -> old\n",
    "    'Mmy': Parameter(name='Mmy', value=sympy.Float(20.56), units=per_day_units()),  # Contact rate middle -> young\n",
    "    'Mmm': Parameter(name='Mmm', value=sympy.Float(28.22), units=per_day_units()),  # Contact rate middle -> middle\n",
    "    'Mmo': Parameter(name='Mmo', value=sympy.Float(11.6), units=per_day_units()),  # Contact rate middle -> old\n",
    "    'Moy': Parameter(name='Moy', value=sympy.Float(6.12), units=per_day_units()),  # Contact rate old -> young\n",
    "    'Mom': Parameter(name='Mom', value=sympy.Float(11.6), units=per_day_units()),  # Contact rate old -> middle\n",
    "    'Moo': Parameter(name='Moo', value=sympy.Float(20.01), units=per_day_units()),  # Contact rate old -> old\n",
    "}"
   ]
  },
  {
   "cell_type": "markdown",
   "id": "e0e7b89c-8d24-42b2-afe1-e3bddf0bfc5c",
   "metadata": {},
   "source": [
    "### Define variables"
   ]
  },
  {
   "cell_type": "code",
   "execution_count": 6,
   "id": "802ce5dd-9f50-43c3-8d0b-f1e7a692d7b0",
   "metadata": {},
   "outputs": [],
   "source": [
    "S_y, S_m, S_o, E_y, E_m, E_o, I_y, I_m, I_o, R_y, R_m, R_o, beta, N, mew, mcw, r_EI, r_IR, Myy, Mym, Myo, Mmy, Mmm, Mmo, Moy, Mom, Moo = \\\n",
    "    sympy.symbols(\n",
    "        'S_y S_m S_o E_y E_m E_o I_y I_m I_o R_y R_m R_o beta N mew mcw r_EI r_IR Myy Mym Myo Mmy Mmm Mmo Moy Mom Moo'\n",
    "    )"
   ]
  },
  {
   "cell_type": "markdown",
   "id": "8d3dceac-1113-4c55-92a3-3b5ab34ee960",
   "metadata": {},
   "source": [
    "### Set initial values"
   ]
  },
  {
   "cell_type": "code",
   "execution_count": 7,
   "id": "f892e033-55da-44c6-b309-459dee0cae1a",
   "metadata": {},
   "outputs": [],
   "source": [
    "initials = {\n",
    "    \"S_y\": Initial(concept=c[\"S_y\"], expression=99.0),\n",
    "    \"S_m\": Initial(concept=c[\"S_m\"], expression=99.0),\n",
    "    \"S_o\": Initial(concept=c[\"S_o\"], expression=99.0),\n",
    "    \"E_y\": Initial(concept=c[\"E_y\"], expression=1.0),\n",
    "    \"E_m\": Initial(concept=c[\"E_m\"], expression=1.0),\n",
    "    \"E_o\": Initial(concept=c[\"E_o\"], expression=1.0),\n",
    "    \"I_y\": Initial(concept=c[\"I_y\"], expression=0.0),\n",
    "    \"I_m\": Initial(concept=c[\"I_m\"], expression=0.0),\n",
    "    \"I_o\": Initial(concept=c[\"I_o\"], expression=0.0),\n",
    "    \"R_y\": Initial(concept=c[\"R_y\"], expression=0.0),\n",
    "    \"R_m\": Initial(concept=c[\"R_m\"], expression=0.0),\n",
    "    \"R_o\": Initial(concept=c[\"R_o\"], expression=0.0),\n",
    "}"
   ]
  },
  {
   "cell_type": "markdown",
   "id": "51ea2d61-7dc7-4aa3-849e-9817708158cc",
   "metadata": {},
   "source": [
    "### Define templates"
   ]
  },
  {
   "cell_type": "code",
   "execution_count": 8,
   "id": "5f186c10-7b95-4678-8737-ebca86c1f856",
   "metadata": {},
   "outputs": [],
   "source": [
    "##### S -> E\n",
    "# Sy -> Ey by Iy\n",
    "syeyiy = ControlledConversion(\n",
    "    subject=c['S_y'],\n",
    "    outcome=c['E_y'],\n",
    "    controller=c['I_y'],\n",
    "    rate_law=beta*S_y*(1 - mew*mcw)*(Myy*I_y) / N\n",
    ")\n",
    "# Sy -> Ey by Im\n",
    "syeyim = ControlledConversion(\n",
    "    subject=c['S_y'],\n",
    "    outcome=c['E_y'],\n",
    "    controller=c['I_m'],\n",
    "    rate_law=beta*S_y*(1 - mew*mcw)*(Mym*I_m) / N\n",
    ")\n",
    "# Sy -> Ey by Io\n",
    "syeyio = ControlledConversion(\n",
    "    subject=c['S_y'],\n",
    "    outcome=c['E_y'],\n",
    "    controller=c['I_o'],\n",
    "    rate_law=beta*S_y*(1 - mew*mcw)*(Myo*I_o) / N\n",
    ")\n",
    "\n",
    "# Sm -> Em by Iy\n",
    "smemiy = ControlledConversion(\n",
    "    subject=c['S_m'],\n",
    "    outcome=c['E_m'],\n",
    "    controller=c['I_y'],\n",
    "    rate_law=beta*S_m*(1 - mew*mcw)*(Mmy*I_y) / N\n",
    ")\n",
    "# Sm -> Em by Im\n",
    "smemim = ControlledConversion(\n",
    "    subject=c['S_m'],\n",
    "    outcome=c['E_m'],\n",
    "    controller=c['I_m'],\n",
    "    rate_law=beta*S_m*(1 - mew*mcw)*(Mmm*I_m) / N\n",
    ")\n",
    "# Sm -> Em by Io\n",
    "smemio = ControlledConversion(\n",
    "    subject=c['S_m'],\n",
    "    outcome=c['E_m'],\n",
    "    controller=c['I_o'],\n",
    "    rate_law=beta*S_m*(1 - mew*mcw)*(Mmo*I_o) / N\n",
    ")\n",
    "\n",
    "# So -> Eo by Iy\n",
    "soeoiy = ControlledConversion(\n",
    "    subject=c['S_o'],\n",
    "    outcome=c['E_o'],\n",
    "    controller=c['I_y'],\n",
    "    rate_law=beta*S_o*(1 - mew*mcw)*(Moy*I_y) / N\n",
    ")\n",
    "# So -> Eo by Im\n",
    "soeoim = ControlledConversion(\n",
    "    subject=c['S_o'],\n",
    "    outcome=c['E_o'],\n",
    "    controller=c['I_m'],\n",
    "    rate_law=beta*S_o*(1 - mew*mcw)*(Mom*I_m) / N\n",
    ")\n",
    "# So -> Eo by Io\n",
    "soeoio = ControlledConversion(\n",
    "    subject=c['S_o'],\n",
    "    outcome=c['E_o'],\n",
    "    controller=c['I_o'],\n",
    "    rate_law=beta*S_o*(1 - mew*mcw)*(Moo*I_o) / N\n",
    ")\n",
    "\n",
    "#### E -> I\n",
    "# Ey -> Iy\n",
    "eyiy = NaturalConversion(\n",
    "    subject=c['E_y'],\n",
    "    outcome=c['I_y'],\n",
    "    rate_law=r_EI*E_y\n",
    ")\n",
    "# Em -> Im\n",
    "emim = NaturalConversion(\n",
    "    subject=c['E_m'],\n",
    "    outcome=c['I_m'],\n",
    "    rate_law=r_EI*E_m\n",
    ")\n",
    "# Eo -> Io\n",
    "eoio = NaturalConversion(\n",
    "    subject=c['E_o'],\n",
    "    outcome=c['I_o'],\n",
    "    rate_law=r_EI*E_o\n",
    ")\n",
    "\n",
    "#### I -> R\n",
    "# Iy -> Ry\n",
    "iyry = NaturalConversion(\n",
    "    subject=c['I_y'],\n",
    "    outcome=c['R_y'],\n",
    "    rate_law=r_IR*I_y\n",
    ")\n",
    "# Im -> Rm\n",
    "imrm = NaturalConversion(\n",
    "    subject=c['I_m'],\n",
    "    outcome=c['R_m'],\n",
    "    rate_law=r_IR*I_m\n",
    ")\n",
    "# Io -> Ro\n",
    "ioro = NaturalConversion(\n",
    "    subject=c['I_o'],\n",
    "    outcome=c['R_o'],\n",
    "    rate_law=r_IR*I_o\n",
    ")"
   ]
  },
  {
   "cell_type": "markdown",
   "id": "a845f3f9-fe95-4931-9a4b-c3800774f940",
   "metadata": {},
   "source": [
    "### Define observables"
   ]
  },
  {
   "cell_type": "code",
   "execution_count": 9,
   "id": "38e21c50-8b53-4288-a8ef-73f6e02ac63a",
   "metadata": {},
   "outputs": [],
   "source": [
    "observables_seir = {\n",
    "    'susceptible': Observable(name='susceptible', expression=S_y+S_m+S_o),\n",
    "    'exposed': Observable(name='exposed', expression=E_y+E_m+E_o),\n",
    "    'infected': Observable(name='infected', expression=I_y+I_m+I_o),\n",
    "    'recovered': Observable(name='recovered', expression=R_y+R_m+R_o),\n",
    "}"
   ]
  },
  {
   "cell_type": "markdown",
   "id": "e0a0a040-600d-45f4-bc68-be57074b6cac",
   "metadata": {},
   "source": [
    "### Define template model and save as petrinet AMR"
   ]
  },
  {
   "cell_type": "code",
   "execution_count": 10,
   "id": "4c523830-dfc3-4b8a-b584-5dad7f95c729",
   "metadata": {},
   "outputs": [],
   "source": [
    "seir_model = TemplateModel(\n",
    "    templates=[\n",
    "        syeyiy,\n",
    "        syeyim,\n",
    "        syeyio,\n",
    "        smemiy,\n",
    "        smemim,\n",
    "        smemio,\n",
    "        soeoiy,\n",
    "        soeoim,\n",
    "        soeoio,\n",
    "        eyiy,\n",
    "        emim,\n",
    "        eoio,\n",
    "        iyry,\n",
    "        imrm,\n",
    "        ioro,\n",
    "    ],\n",
    "    parameters=parameters,\n",
    "    initials=initials,\n",
    "    observables=observables_seir\n",
    ")\n",
    "\n",
    "# Save as JSON\n",
    "with open(\"SEIR_scenario3_petrinet.json\", 'w') as fh:\n",
    "    json.dump(template_model_to_petrinet_json(seir_model), fh, indent=1)"
   ]
  },
  {
   "cell_type": "code",
   "execution_count": 11,
   "id": "82dda977",
   "metadata": {},
   "outputs": [],
   "source": [
    "om = OdeModel(model=Model(seir_model), initialized=True)"
   ]
  },
  {
   "cell_type": "code",
   "execution_count": 12,
   "id": "92ef0baf",
   "metadata": {},
   "outputs": [],
   "source": [
    "times_test = numpy.linspace(0, 100, 100)\n",
    "res = simulate_ode_model(ode_model=om, times=times_test,\n",
    "                                 with_observables=True)\n",
    "\n"
   ]
  },
  {
   "cell_type": "code",
   "execution_count": null,
   "id": "eb65a8f3",
   "metadata": {},
   "outputs": [],
   "source": []
  },
  {
   "cell_type": "code",
   "execution_count": 13,
   "id": "148bec6c",
   "metadata": {},
   "outputs": [
    {
     "data": {
      "image/png": "[encoded data removed]",
      "text/plain": [
       "<Figure size 640x480 with 1 Axes>"
      ]
     },
     "metadata": {},
     "output_type": "display_data"
    }
   ],
   "source": [
    "#variable_list=list(seir_model.initials.keys())\n",
    "variable_list = ['S_y', 'I_y', 'E_y', 'I_m', 'I_o', 'S_m', 'E_m', 'S_o', 'E_o', 'R_y', 'R_m', 'R_o', 'S', 'E', 'I', 'R']\n",
    "cm = plt.cm.bwr(numpy.linspace(0, 1, len(variable_list))) # can also use: bwr, brg, hsv, jet\n",
    "ax = plt.subplot(111)\n",
    "marker_list = ['-','--',':','-.']*4\n",
    "ax.set_prop_cycle(color=list(cm), linestyle=marker_list)\n",
    "\n",
    "\n",
    "ax.legend(handles = plt.plot(times_test,res), labels=variable_list,loc = 'upper left', bbox_to_anchor=(1,1))\n",
    "plt.xlabel('Day')\n",
    "plt.ylabel('Population')\n",
    "plt.show()"
   ]
  },
  {
   "cell_type": "markdown",
   "id": "cedfa54c-a1c6-4eb5-9674-9ac17d823fb3",
   "metadata": {},
   "source": [
    "## Change parameter values and uncertainty from the AMR"
   ]
  },
  {
   "cell_type": "code",
   "execution_count": 14,
   "id": "12219f8d-566f-466d-b35e-6bb70af5cea7",
   "metadata": {},
   "outputs": [],
   "source": [
    "filename = \"SEIR_scenario3_petrinet.json\"\n",
    "with open(filename, 'r') as fh:\n",
    "    tm = template_model_from_amr_json(json.load(fh))\n",
    "\n",
    "# Change `Myy` parameter value\n",
    "tm.parameters[\"Myy\"].value = 50.0\n",
    "\n",
    "# Change `Myy` distribution\n",
    "tm.parameters[\"Myy\"].distribution = Distribution(type='StandardUniform1',\n",
    "                                                 parameters={'minimum': 40.0, 'maximum': 80.0})\n",
    "\n",
    "# Save as updated AMR\n",
    "with open('update_parameters_example.json', 'w') as fh:\n",
    "    json.dump(template_model_to_petrinet_json(tm), fh, indent=1)"
   ]
  }
 ],
 "metadata": {
  "kernelspec": {
   "display_name": "mira_venv",
   "language": "python",
   "name": "mira_venv"
  },
  "language_info": {
   "codemirror_mode": {
    "name": "ipython",
    "version": 3
   },
   "file_extension": ".py",
   "mimetype": "text/x-python",
   "name": "python",
   "nbconvert_exporter": "python",
   "pygments_lexer": "ipython3",
   "version": "3.9.12"
  }
 },
 "nbformat": 4,
 "nbformat_minor": 5
}
