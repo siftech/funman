{
 "cells": [
  {
   "cell_type": "code",
   "execution_count": null,
   "metadata": {},
   "outputs": [],
   "source": [
    "%load_ext autoreload\n",
    "%autoreload 2\n",
    "\n",
    "import scipy\n",
    "from scipy.integrate import odeint\n",
    "import numpy as np\n",
    "import matplotlib.pyplot as plt\n",
    "import random\n",
    "import sir_model\n",
    "import json\n",
    "from random import randint"
   ]
  },
  {
   "cell_type": "code",
   "execution_count": null,
   "metadata": {},
   "outputs": [],
   "source": [
    "\n",
    "# initialize recording of parameter choices and true/false\n",
    "\n",
    "param_choices_true_false = []"
   ]
  },
  {
   "cell_type": "markdown",
   "metadata": {},
   "source": [
    "### Set these calibration parameters once:"
   ]
  },
  {
   "cell_type": "code",
   "execution_count": null,
   "metadata": {},
   "outputs": [],
   "source": [
    "# USER: set initial conditions\n",
    "I0, R0 = 0.01, 0\n",
    "S0 = 1-I0-R0\n",
    "\n",
    "# USER: set simulation parameters\n",
    "dt = 1\n",
    "tstart = 0\n",
    "tend = 100\n",
    "\n",
    "# USER: set simulation parameters\n",
    "dt = 1\n",
    "tstart = 0\n",
    "tend = 100\n"
   ]
  },
  {
   "cell_type": "markdown",
   "metadata": {},
   "source": [
    "### After setting your calibration parameters, run the following cell as many times as you'd like to experiment with different parameter values:"
   ]
  },
  {
   "cell_type": "code",
   "execution_count": null,
   "metadata": {},
   "outputs": [],
   "source": [
    "\n",
    "def ps(beta_val, gamma_val):\n",
    "    def beta(t): return np.piecewise(t, [t>=0], [beta_val])\n",
    "    def gamma(t): return np.piecewise(t, [t>=0], [gamma_val])\n",
    "\n",
    "    y0 = S0, I0, R0 # Initial conditions vector\n",
    "\n",
    "    tvect = np.arange(tstart, tend, dt)\n",
    "\n",
    "    sim = odeint(sir_model.SIR_model, y0, tvect, args=(beta, gamma))\n",
    "    S, I, R = sim.T\n",
    "\n",
    "    # plot results\n",
    "    sir_model.plotSIR(tvect, S, I, R)\n",
    "\n",
    "    ## log parameters and sat/unsat\n",
    "\n",
    "    param_assignments = {'beta': beta_val, 'gamma': gamma_val, 'assignment': input(\"Please enter 0 if the parameter choices were bad and 1 if they were good:\")}\n",
    "\n",
    "    param_choices_true_false.append(param_assignments)\n",
    "\n",
    "\n",
    "beta_value = input(\"Please enter a value for beta:\")\n",
    "gamma_value = input(\"Please enter a value for gamma:\")\n",
    "ps(beta_value, gamma_value)\n"
   ]
  },
  {
   "cell_type": "markdown",
   "metadata": {},
   "source": [
    "### At any point in the process, you can visualize the true/false points:"
   ]
  },
  {
   "cell_type": "code",
   "execution_count": null,
   "metadata": {},
   "outputs": [],
   "source": [
    "# Plot \"true/false\" points.  \n",
    "\n",
    "sir_model.plot_two_params(\"beta\", \"gamma\", param_choices_true_false)"
   ]
  },
  {
   "cell_type": "markdown",
   "metadata": {},
   "source": [
    "### Once you're done, save your true/false points:"
   ]
  },
  {
   "cell_type": "code",
   "execution_count": null,
   "metadata": {},
   "outputs": [],
   "source": [
    "# Save results\n",
    "\n",
    "id_number = randint(10**5, 10**6 - 1)\n",
    "\n",
    "with open(f'sir_manual_{id_number}.json', 'w', encoding='utf-8') as f:\n",
    "    json.dump(param_choices_true_false, f, ensure_ascii=False, indent=4)"
   ]
  },
  {
   "cell_type": "code",
   "execution_count": null,
   "metadata": {},
   "outputs": [],
   "source": []
  }
 ],
 "metadata": {
  "kernelspec": {
   "display_name": "funman_venv",
   "language": "python",
   "name": "python3"
  },
  "language_info": {
   "codemirror_mode": {
    "name": "ipython",
    "version": 3
   },
   "file_extension": ".py",
   "mimetype": "text/x-python",
   "name": "python",
   "nbconvert_exporter": "python",
   "pygments_lexer": "ipython3",
   "version": "3.8.10"
  }
 },
 "nbformat": 4,
 "nbformat_minor": 2
}
