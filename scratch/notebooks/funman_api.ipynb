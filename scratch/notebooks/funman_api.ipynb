{
 "cells": [
  {
   "cell_type": "code",
   "execution_count": 2,
   "metadata": {},
   "outputs": [],
   "source": [
    "import asyncio\n",
    "import nest_asyncio\n",
    "import json\n",
    "import unittest\n",
    "from os import path, getcwd\n",
    "\n",
    "import funman.api.client as client\n",
    "from funman.api.api import app\n",
    "from funman.api.server import Server, ServerConfig\n",
    "\n",
    "API_BASE_PATH = path.join(getcwd(), \"..\")\n",
    "API_SERVER_HOST = \"0.0.0.0\"\n",
    "API_SERVER_PORT = 8190\n",
    "SERVER_URL = f\"http://{API_SERVER_HOST}:{API_SERVER_PORT}\"\n",
    "OPENAPI_URL = f\"{SERVER_URL}/openapi.json\"\n",
    "CLIENT_NAME = \"funman-api-client\""
   ]
  },
  {
   "cell_type": "code",
   "execution_count": 3,
   "metadata": {},
   "outputs": [
    {
     "data": {
      "text/plain": [
       "<contextlib._GeneratorContextManager at 0x7fb8784b9580>"
      ]
     },
     "execution_count": 3,
     "metadata": {},
     "output_type": "execute_result"
    }
   ],
   "source": [
    "# Start API Server\n",
    "\n",
    "server = Server(\n",
    "            config=ServerConfig(\n",
    "                app,\n",
    "                host=API_SERVER_HOST,\n",
    "                port=API_SERVER_PORT,\n",
    "                log_level=\"info\",\n",
    "            )\n",
    "        )\n",
    "# loop = asyncio.get_event_loop()\n",
    "# loop.create_task(server.serve())\n",
    "nest_asyncio.apply()\n",
    "server.run_in_thread()"
   ]
  },
  {
   "cell_type": "code",
   "execution_count": 4,
   "metadata": {},
   "outputs": [
    {
     "ename": "TypeError",
     "evalue": "'GeneratorError' object is not subscriptable",
     "output_type": "error",
     "traceback": [
      "\u001b[0;31m---------------------------------------------------------------------------\u001b[0m",
      "\u001b[0;31mTypeError\u001b[0m                                 Traceback (most recent call last)",
      "Cell \u001b[0;32mIn[4], line 3\u001b[0m\n\u001b[1;32m      1\u001b[0m \u001b[39m# Make API client\u001b[39;00m\n\u001b[0;32m----> 3\u001b[0m client\u001b[39m.\u001b[39;49mmake_client(\n\u001b[1;32m      4\u001b[0m     API_BASE_PATH, openapi_url\u001b[39m=\u001b[39;49mOPENAPI_URL, client_name\u001b[39m=\u001b[39;49mCLIENT_NAME\n\u001b[1;32m      5\u001b[0m )\n\u001b[1;32m      6\u001b[0m \u001b[39mfrom\u001b[39;00m \u001b[39mfunman_api_client\u001b[39;00m \u001b[39mimport\u001b[39;00m Client\n\u001b[1;32m      9\u001b[0m funman_client \u001b[39m=\u001b[39m Client(SERVER_URL, timeout\u001b[39m=\u001b[39m\u001b[39mNone\u001b[39;00m)\n",
      "File \u001b[0;32m~/funman/src/funman/api/client.py:46\u001b[0m, in \u001b[0;36mmake_client\u001b[0;34m(install_path, client_name, openapi_url)\u001b[0m\n\u001b[1;32m     44\u001b[0m \u001b[39mwith\u001b[39;00m TemporaryDirectory() \u001b[39mas\u001b[39;00m tmpdir:\n\u001b[1;32m     45\u001b[0m     openapi_file \u001b[39m=\u001b[39m Path(tmpdir) \u001b[39m/\u001b[39m Path(\u001b[39m\"\u001b[39m\u001b[39mopenapi.json\u001b[39m\u001b[39m\"\u001b[39m)\n\u001b[0;32m---> 46\u001b[0m     api \u001b[39m=\u001b[39m get_patched_schema(openapi_url, openapi_file)\n\u001b[1;32m     48\u001b[0m     \u001b[39mif\u001b[39;00m client_path\u001b[39m.\u001b[39mexists():\n\u001b[1;32m     49\u001b[0m         \u001b[39mprint\u001b[39m(\n\u001b[1;32m     50\u001b[0m             \u001b[39mf\u001b[39m\u001b[39m\"\u001b[39m\u001b[39mUpdating existing funman client at \u001b[39m\u001b[39m{\u001b[39;00minstall_dir\u001b[39m}\u001b[39;00m\u001b[39m from \u001b[39m\u001b[39m{\u001b[39;00mopenapi_url\u001b[39m}\u001b[39;00m\u001b[39m\"\u001b[39m\n\u001b[1;32m     51\u001b[0m         )\n",
      "File \u001b[0;32m~/funman/src/funman/api/client.py:20\u001b[0m, in \u001b[0;36mget_patched_schema\u001b[0;34m(url, output)\u001b[0m\n\u001b[1;32m     18\u001b[0m \u001b[39mdef\u001b[39;00m \u001b[39mget_patched_schema\u001b[39m(url: \u001b[39mstr\u001b[39m, output: Path):\n\u001b[1;32m     19\u001b[0m     data \u001b[39m=\u001b[39m opc\u001b[39m.\u001b[39m_get_document(url\u001b[39m=\u001b[39murl, path\u001b[39m=\u001b[39m\u001b[39mNone\u001b[39;00m, timeout\u001b[39m=\u001b[39m\u001b[39m5\u001b[39m)\n\u001b[0;32m---> 20\u001b[0m     \u001b[39mfor\u001b[39;00m k, v \u001b[39min\u001b[39;00m data[\u001b[39m\"\u001b[39;49m\u001b[39mcomponents\u001b[39;49m\u001b[39m\"\u001b[39;49m][\u001b[39m\"\u001b[39m\u001b[39mschemas\u001b[39m\u001b[39m\"\u001b[39m]\u001b[39m.\u001b[39mitems():\n\u001b[1;32m     21\u001b[0m         m \u001b[39m=\u001b[39m re\u001b[39m.\u001b[39mmatch(\u001b[39mr\u001b[39m\u001b[39m\"\u001b[39m\u001b[39m^funman__model__generated_models__(.+)__.*$\u001b[39m\u001b[39m\"\u001b[39m, k)\n\u001b[1;32m     22\u001b[0m         \u001b[39mif\u001b[39;00m m:\n",
      "\u001b[0;31mTypeError\u001b[0m: 'GeneratorError' object is not subscriptable"
     ]
    }
   ],
   "source": [
    "# Make API client\n",
    "\n",
    "client.make_client(\n",
    "    API_BASE_PATH, openapi_url=OPENAPI_URL, client_name=CLIENT_NAME\n",
    ")\n",
    "from funman_api_client import Client\n",
    "\n",
    "\n",
    "funman_client = Client(SERVER_URL, timeout=None)"
   ]
  },
  {
   "cell_type": "code",
   "execution_count": null,
   "metadata": {},
   "outputs": [],
   "source": [
    "# Setup API client request\n",
    "\n",
    "from funman_api_client.api.default import (\n",
    "    solve_consistency_solve_consistency_put,\n",
    ")\n",
    "from funman_api_client.models import (\n",
    "    BodySolveConsistencySolveConsistencyPut,\n",
    "    ConsistencyScenario,\n",
    "    ConsistencyScenarioResult,\n",
    "    FUNMANConfig\n",
    ")"
   ]
  },
  {
   "cell_type": "code",
   "execution_count": null,
   "metadata": {},
   "outputs": [],
   "source": [
    "# Construct request\n",
    "\n",
    "\n",
    "bilayer_json =     {\"Wa\":[{\"influx\":1,\"infusion\":2},\n",
    "\t\t\t {\"influx\":2,\"infusion\":3}],\n",
    " \"Win\":[{\"arg\":1,\"call\":1},\n",
    " \t\t\t\t{\"arg\":2,\"call\":1},\n",
    " \t\t\t\t{\"arg\":2,\"call\":2}],\n",
    " \"Box\":[{\"parameter\":\"beta\"},\n",
    " \t\t\t\t{\"parameter\":\"gamma\"}],\n",
    " \"Qin\":[{\"variable\":\"S\"},\n",
    " \t\t\t\t{\"variable\":\"I\"},\n",
    " \t\t\t\t{\"variable\":\"R\"}],\n",
    " \"Qout\":[{\"tanvar\":\"S'\"},\n",
    " \t\t\t\t {\"tanvar\":\"I'\"},\n",
    " \t\t\t\t {\"tanvar\":\"R'\"}],\n",
    " \"Wn\":[{\"efflux\":1,\"effusion\":1},\n",
    " \t\t\t {\"efflux\":2,\"effusion\":2}]}\n",
    "\n",
    "\n",
    "infected_threshold = 130\n",
    "init_values = {\"S\": 9998, \"I\": 1, \"R\": 1}\n",
    "\n",
    "\n",
    "response = asyncio.run(\n",
    "    solve_consistency_solve_consistency_put.asyncio_detailed(\n",
    "        client=funman_client,\n",
    "        json_body=BodySolveConsistencySolveConsistencyPut(\n",
    "            ConsistencyScenario.from_dict(\n",
    "                {\n",
    "                    \"model\": {\n",
    "                        \"init_values\": init_values,\n",
    "                        \"bilayer\": {\"json_graph\": bilayer_json},\n",
    "                    },\n",
    "                    \"query\": {\n",
    "                        \"variable\": \"I\",\n",
    "                        \"ub\": infected_threshold,\n",
    "                        \"at_end\": False,\n",
    "                    },\n",
    "                }\n",
    "            ),\n",
    "            FUNMANConfig.from_dict(\n",
    "                            {\"tolerance\": 1.0e-8, \"number_of_processes\": 1}\n",
    "                        ),\n",
    "        ),\n",
    "    )\n",
    ")\n",
    "\n",
    "result = ConsistencyScenarioResult.from_dict(\n",
    "    src_dict=json.loads(response.content.decode())\n",
    ")\n",
    "result.to_dict()"
   ]
  }
 ],
 "metadata": {
  "kernelspec": {
   "display_name": "funman_venv",
   "language": "python",
   "name": "python3"
  },
  "language_info": {
   "codemirror_mode": {
    "name": "ipython",
    "version": 3
   },
   "file_extension": ".py",
   "mimetype": "text/x-python",
   "name": "python",
   "nbconvert_exporter": "python",
   "pygments_lexer": "ipython3",
   "version": "3.8.10"
  },
  "orig_nbformat": 4,
  "vscode": {
   "interpreter": {
    "hash": "c4119eda3b1833fe9fd8fbf30e1a97c798b493dbeda1893c2d82ebe0184730f9"
   }
  }
 },
 "nbformat": 4,
 "nbformat_minor": 2
}
